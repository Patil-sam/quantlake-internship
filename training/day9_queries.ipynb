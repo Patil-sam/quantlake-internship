{
 "cells": [
  {
   "cell_type": "code",
   "execution_count": null,
   "id": "d908e675",
   "metadata": {},
   "outputs": [],
   "source": [
    "E:\\QuantLake>sqlite3 chinook.db"
   ]
  },
  {
   "cell_type": "markdown",
   "id": "a06de38b",
   "metadata": {},
   "source": [
    "# TASK-1"
   ]
  },
  {
   "cell_type": "code",
   "execution_count": null,
   "id": "8af4d53f",
   "metadata": {},
   "outputs": [],
   "source": [
    "#1. List each customer with total number of orders and total revenue\n",
    "sqlite> SELECT\n",
    "   ...>     c.CustomerId,\n",
    "   ...>     c.FirstName || ' ' || c.LastName AS CustomerName,\n",
    "   ...>     COUNT(i.InvoiceId) AS TotalOrders,\n",
    "   ...>     SUM(i.Total) AS TotalRevenue\n",
    "   ...> FROM\n",
    "   ...>     customers c\n",
    "   ...> JOIN\n",
    "   ...>     invoices i ON c.CustomerId = i.CustomerId\n",
    "   ...> GROUP BY\n",
    "   ...>     c.CustomerId\n",
    "   ...> ORDER BY\n",
    "   ...>     TotalRevenue DESC;"
   ]
  },
  {
   "cell_type": "code",
   "execution_count": null,
   "id": "67adb69d",
   "metadata": {},
   "outputs": [],
   "source": [
    "#2. Retrieve the top 5 highest spending customers with their country names\n",
    "sqlite> SELECT\n",
    "   ...>     c.CustomerId,\n",
    "   ...>     c.FirstName || ' ' || c.LastName AS CustomerName,\n",
    "   ...>     c.Country,\n",
    "   ...>     SUM(i.Total) AS TotalSpent\n",
    "   ...> FROM\n",
    "   ...>     customers c\n",
    "   ...> JOIN\n",
    "   ...>     invoices i ON c.CustomerId = i.CustomerId\n",
    "   ...> GROUP BY\n",
    "   ...>     c.CustomerId\n",
    "   ...> ORDER BY\n",
    "   ...>     TotalSpent DESC\n",
    "   ...> LIMIT 5;"
   ]
  },
  {
   "cell_type": "code",
   "execution_count": null,
   "id": "1c9e794f",
   "metadata": {},
   "outputs": [],
   "source": [
    "#3. List product categories (genres) and their total revenue using join\n",
    "sqlite> SELECT\n",
    "   ...>     g.Name AS Genre,\n",
    "   ...>     SUM(ii.UnitPrice * ii.Quantity) AS TotalRevenue\n",
    "   ...> FROM\n",
    "   ...>     invoice_items ii\n",
    "   ...> JOIN\n",
    "   ...>     tracks t ON ii.TrackId = t.TrackId\n",
    "   ...> JOIN\n",
    "   ...>     genres g ON t.GenreId = g.GenreId\n",
    "   ...> GROUP BY\n",
    "   ...>     g.GenreId\n",
    "   ...> ORDER BY\n",
    "   ...>     TotalRevenue DESC;"
   ]
  },
  {
   "cell_type": "markdown",
   "id": "c5de3069",
   "metadata": {},
   "source": [
    "# TASK-2"
   ]
  },
  {
   "cell_type": "code",
   "execution_count": null,
   "id": "588b7195",
   "metadata": {},
   "outputs": [],
   "source": [
    "# 1. For each customer, rank their orders by order amount\n",
    "sqlite> SELECT\n",
    "   ...>     CustomerId,\n",
    "   ...>     InvoiceId,\n",
    "   ...>     Total,\n",
    "   ...>     ROW_NUMBER() OVER (PARTITION BY CustomerId ORDER BY Total DESC) AS OrderRank\n",
    "   ...> FROM\n",
    "   ...>     invoices;"
   ]
  },
  {
   "cell_type": "code",
   "execution_count": null,
   "id": "5dd9d41a",
   "metadata": {},
   "outputs": [],
   "source": [
    "#2. Calculate running total of sales by month\n",
    "sqlite> WITH MonthlySales AS (\n",
    "(x1...>   SELECT\n",
    "(x1...>     strftime('%Y-%m', InvoiceDate) AS Month,\n",
    "(x1...>     SUM(Total) AS MonthlyTotal\n",
    "(x1...>   FROM\n",
    "(x1...>     invoices\n",
    "(x1...>   GROUP BY\n",
    "(x1...>     strftime('%Y-%m', InvoiceDate)\n",
    "(x1...> )\n",
    "   ...> SELECT\n",
    "   ...>   Month,\n",
    "   ...>   MonthlyTotal,\n",
    "   ...>   SUM(MonthlyTotal) OVER (ORDER BY Month) AS RunningTotal\n",
    "   ...> FROM\n",
    "   ...>   MonthlySales;"
   ]
  },
  {
   "cell_type": "code",
   "execution_count": null,
   "id": "17e5d6e2",
   "metadata": {},
   "outputs": [],
   "source": [
    "#3. Rank top 3 products per category (genre) by revenue\n",
    "sqlite> WITH RankedTracks AS (\n",
    "(x1...>   SELECT\n",
    "(x1...>       g.Name AS Genre,\n",
    "(x1...>       t.Name AS TrackName,\n",
    "(x1...>       SUM(ii.UnitPrice * ii.Quantity) AS Revenue,\n",
    "(x1...>       RANK() OVER (PARTITION BY g.GenreId ORDER BY SUM(ii.UnitPrice * ii.Quantity) DESC) AS RevenueRank\n",
    "(x1...>   FROM\n",
    "(x1...>       invoice_items ii\n",
    "(x1...>   JOIN\n",
    "(x1...>       tracks t ON ii.TrackId = t.TrackId\n",
    "(x1...>   JOIN\n",
    "(x1...>       genres g ON t.GenreId = g.GenreId\n",
    "(x1...>   GROUP BY\n",
    "(x1...>       g.GenreId, t.TrackId\n",
    "(x1...> )\n",
    "   ...> SELECT *\n",
    "   ...> FROM RankedTracks\n",
    "   ...> WHERE RevenueRank <= 3;"
   ]
  },
  {
   "cell_type": "markdown",
   "id": "6d05448a",
   "metadata": {},
   "source": [
    "# TASK-3"
   ]
  },
  {
   "cell_type": "code",
   "execution_count": null,
   "id": "5653fa91",
   "metadata": {},
   "outputs": [],
   "source": [
    "#1. CTE to find customers with average order value > ₹1000\n",
    "sqlite> WITH CustomerAvgOrder AS (\n",
    "(x1...>   SELECT\n",
    "(x1...>     CustomerId,\n",
    "(x1...>     AVG(Total) AS AvgOrderValue\n",
    "(x1...>   FROM\n",
    "(x1...>     invoices\n",
    "(x1...>   GROUP BY\n",
    "(x1...>     CustomerId\n",
    "(x1...> )\n",
    "   ...> SELECT\n",
    "   ...>   c.CustomerId,\n",
    "   ...>   c.FirstName || ' ' || c.LastName AS CustomerName,\n",
    "   ...>   a.AvgOrderValue\n",
    "   ...> FROM\n",
    "   ...>   CustomerAvgOrder a\n",
    "   ...> JOIN\n",
    "   ...>   customers c ON c.CustomerId = a.CustomerId\n",
    "   ...> WHERE\n",
    "   ...>   a.AvgOrderValue > 1000;"
   ]
  },
  {
   "cell_type": "code",
   "execution_count": null,
   "id": "fc13a31d",
   "metadata": {},
   "outputs": [],
   "source": [
    "# 2. CTE to filter orders in the last 3 months, then aggregate revenue\n",
    "sqlite> WITH RecentInvoices AS (\n",
    "(x1...>   SELECT *\n",
    "(x1...>   FROM invoices\n",
    "(x1...>   WHERE InvoiceDate >= date('now', '-3 months')\n",
    "(x1...> )\n",
    "   ...> SELECT\n",
    "   ...>   BillingCountry,\n",
    "   ...>   COUNT(*) AS OrderCount,\n",
    "   ...>   SUM(Total) AS TotalRevenue\n",
    "   ...> FROM\n",
    "   ...>   RecentInvoices\n",
    "   ...> GROUP BY\n",
    "   ...>   BillingCountry\n",
    "   ...> ORDER BY\n",
    "   ...>   TotalRevenue DESC;"
   ]
  },
  {
   "cell_type": "markdown",
   "id": "56cf9fef",
   "metadata": {},
   "source": [
    "# TASK-4"
   ]
  },
  {
   "cell_type": "code",
   "execution_count": null,
   "id": "78c4544b",
   "metadata": {},
   "outputs": [],
   "source": [
    "#Step 1: Create Monthly Product-Wise Sales Trend\n",
    "sqlite> WITH MonthlyProductSales AS (\n",
    "(x1...>   SELECT\n",
    "(x1...>     t.TrackId,\n",
    "(x1...>     t.Name AS ProductName,\n",
    "(x1...>     strftime('%Y-%m', i.InvoiceDate) AS Month,\n",
    "(x1...>     SUM(ii.Quantity) AS MonthlySales\n",
    "(x1...>   FROM\n",
    "(x1...>     invoice_items ii\n",
    "(x1...>   JOIN\n",
    "(x1...>     invoices i ON ii.InvoiceId = i.InvoiceId\n",
    "(x1...>   JOIN\n",
    "(x1...>     tracks t ON ii.TrackId = t.TrackId\n",
    "(x1...>   GROUP BY\n",
    "(x1...>     t.TrackId, strftime('%Y-%m', i.InvoiceDate)\n",
    "(x1...> )\n",
    "   ...> SELECT * FROM MonthlyProductSales\n",
    "   ...> ORDER BY TrackId, Month;"
   ]
  },
  {
   "cell_type": "code",
   "execution_count": null,
   "id": "ae50d75a",
   "metadata": {},
   "outputs": [],
   "source": [
    "# Step 2: Identify Products with Decreasing Sales in the Last 3 Monthssqlite> WITH MonthlyProductSales AS (\n",
    "(x1...>   SELECT\n",
    "(x1...>     t.TrackId,\n",
    "(x1...>     t.Name AS ProductName,\n",
    "(x1...>     strftime('%Y-%m', i.InvoiceDate) AS Month,\n",
    "(x1...>     SUM(ii.Quantity) AS MonthlySales\n",
    "(x1...>   FROM\n",
    "(x1...>     invoice_items ii\n",
    "(x1...>   JOIN\n",
    "(x1...>     invoices i ON ii.InvoiceId = i.InvoiceId\n",
    "(x1...>   JOIN\n",
    "(x1...>     tracks t ON ii.TrackId = t.TrackId\n",
    "(x1...>   GROUP BY\n",
    "(x1...>     t.TrackId, strftime('%Y-%m', i.InvoiceDate)\n",
    "(x1...> ),\n",
    "   ...> RecentThreeMonths AS (\n",
    "(x1...>   SELECT DISTINCT strftime('%Y-%m', InvoiceDate) AS Month\n",
    "(x1...>   FROM invoices\n",
    "(x1...>   ORDER BY Month DESC\n",
    "(x1...>   LIMIT 3\n",
    "(x1...> ),\n",
    "   ...> FilteredSales AS (\n",
    "(x1...>   SELECT mps.*\n",
    "(x1...>   FROM MonthlyProductSales mps\n",
    "(x1...>   JOIN RecentThreeMonths rtm ON mps.Month = rtm.Month\n",
    "(x1...> ),\n",
    "   ...> Ranked AS (\n",
    "(x1...>   SELECT\n",
    "(x1...>     *,\n",
    "(x1...>     RANK() OVER (PARTITION BY TrackId ORDER BY Month DESC) AS MonthRank\n",
    "(x1...>   FROM FilteredSales\n",
    "(x1...> )\n",
    "   ...> SELECT TrackId, ProductName\n",
    "   ...> FROM Ranked\n",
    "   ...> GROUP BY TrackId\n",
    "   ...> HAVING COUNT(*) = 3 AND\n",
    "   ...>        MAX(CASE WHEN MonthRank = 1 THEN MonthlySales END) >\n",
    "   ...>        MAX(CASE WHEN MonthRank = 2 THEN MonthlySales END) AND\n",
    "   ...>        MAX(CASE WHEN MonthRank = 2 THEN MonthlySales END) >\n",
    "   ...>        MAX(CASE WHEN MonthRank = 3 THEN MonthlySales END);"
   ]
  }
 ],
 "metadata": {
  "kernelspec": {
   "display_name": "Python 3 (ipykernel)",
   "language": "python",
   "name": "python3"
  },
  "language_info": {
   "codemirror_mode": {
    "name": "ipython",
    "version": 3
   },
   "file_extension": ".py",
   "mimetype": "text/x-python",
   "name": "python",
   "nbconvert_exporter": "python",
   "pygments_lexer": "ipython3",
   "version": "3.10.9"
  }
 },
 "nbformat": 4,
 "nbformat_minor": 5
}
