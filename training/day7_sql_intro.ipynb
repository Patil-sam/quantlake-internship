{
 "cells": [
  {
   "cell_type": "code",
   "execution_count": 1,
   "id": "9fd89aeb",
   "metadata": {},
   "outputs": [
    {
     "name": "stdout",
     "output_type": "stream",
     "text": [
      "[WinError 123] The filename, directory name, or volume label syntax is incorrect: '/d E:\\\\QuantLake'\n",
      "C:\\Users\\HPW\\QuantLake_internship\\training\n"
     ]
    }
   ],
   "source": [
    "cd /d E:\\QuantLake"
   ]
  },
  {
   "cell_type": "code",
   "execution_count": null,
   "id": "e95534be",
   "metadata": {},
   "outputs": [],
   "source": [
    "sqlite3 chinook.db"
   ]
  },
  {
   "cell_type": "code",
   "execution_count": null,
   "id": "0c461ed8",
   "metadata": {},
   "outputs": [],
   "source": [
    ".tables"
   ]
  },
  {
   "cell_type": "markdown",
   "id": "ad0a3ff5",
   "metadata": {},
   "source": [
    "# TASK1"
   ]
  },
  {
   "cell_type": "code",
   "execution_count": null,
   "id": "81731cf5",
   "metadata": {},
   "outputs": [],
   "source": [
    "PRAGMA table_info(albums);"
   ]
  },
  {
   "cell_type": "code",
   "execution_count": null,
   "id": "7fff9bb4",
   "metadata": {},
   "outputs": [],
   "source": [
    "PRAGMA table_info(artists);"
   ]
  },
  {
   "cell_type": "code",
   "execution_count": null,
   "id": "8e441013",
   "metadata": {},
   "outputs": [],
   "source": [
    "PRAGMA table_info(customers);"
   ]
  },
  {
   "cell_type": "code",
   "execution_count": null,
   "id": "0ed71d95",
   "metadata": {},
   "outputs": [],
   "source": [
    " PRAGMA table_info(employees);"
   ]
  },
  {
   "cell_type": "code",
   "execution_count": null,
   "id": "e5bf6138",
   "metadata": {},
   "outputs": [],
   "source": [
    "PRAGMA table_info(genres);"
   ]
  },
  {
   "cell_type": "code",
   "execution_count": null,
   "id": "4ebf84fb",
   "metadata": {},
   "outputs": [],
   "source": [
    "PRAGMA table_info(invoice_items);"
   ]
  },
  {
   "cell_type": "code",
   "execution_count": null,
   "id": "038a260f",
   "metadata": {},
   "outputs": [],
   "source": [
    "PRAGMA table_info(invoices);"
   ]
  },
  {
   "cell_type": "code",
   "execution_count": null,
   "id": "33816925",
   "metadata": {},
   "outputs": [],
   "source": [
    "PRAGMA table_info(media_types);"
   ]
  },
  {
   "cell_type": "code",
   "execution_count": null,
   "id": "dcf6f7de",
   "metadata": {},
   "outputs": [],
   "source": [
    "PRAGMA table_info(playlist_track);"
   ]
  },
  {
   "cell_type": "code",
   "execution_count": null,
   "id": "cd65f1c8",
   "metadata": {},
   "outputs": [],
   "source": [
    "PRAGMA table_info(playlists);"
   ]
  },
  {
   "cell_type": "code",
   "execution_count": null,
   "id": "6810f13c",
   "metadata": {},
   "outputs": [],
   "source": [
    "PRAGMA table_info(tracks);"
   ]
  },
  {
   "cell_type": "markdown",
   "id": "3412e750",
   "metadata": {},
   "source": [
    "# TASK2"
   ]
  },
  {
   "cell_type": "code",
   "execution_count": null,
   "id": "f509d9df",
   "metadata": {},
   "outputs": [],
   "source": [
    "SELECT * FROM customers;"
   ]
  },
  {
   "cell_type": "code",
   "execution_count": null,
   "id": "3f35b935",
   "metadata": {},
   "outputs": [],
   "source": [
    "SELECT FirstName, LastName FROM employees;"
   ]
  },
  {
   "cell_type": "markdown",
   "id": "8fd9b79c",
   "metadata": {},
   "source": [
    "# TASK3"
   ]
  },
  {
   "cell_type": "code",
   "execution_count": null,
   "id": "7954dc0d",
   "metadata": {},
   "outputs": [],
   "source": [
    "SELECT * FROM invoices WHERE Total > 10;"
   ]
  },
  {
   "cell_type": "code",
   "execution_count": null,
   "id": "9499007d",
   "metadata": {},
   "outputs": [],
   "source": [
    "SELECT * FROM customers WHERE Country = 'USA';"
   ]
  },
  {
   "cell_type": "code",
   "execution_count": null,
   "id": "901d640a",
   "metadata": {},
   "outputs": [],
   "source": [
    "SELECT * FROM tracks WHERE Composer LIKE '%Rock%';"
   ]
  },
  {
   "cell_type": "markdown",
   "id": "888c7afe",
   "metadata": {},
   "source": [
    "# TASK4"
   ]
  },
  {
   "cell_type": "code",
   "execution_count": null,
   "id": "2bfabdc5",
   "metadata": {},
   "outputs": [],
   "source": [
    "SELECT * FROM invoices ORDER BY Total DESC LIMIT 5;"
   ]
  },
  {
   "cell_type": "code",
   "execution_count": null,
   "id": "f82ce7bf",
   "metadata": {},
   "outputs": [],
   "source": [
    "SELECT * FROM tracks ORDER BY Name ASC LIMIT 3;"
   ]
  },
  {
   "cell_type": "markdown",
   "id": "13151ff7",
   "metadata": {},
   "source": [
    "# TASK5"
   ]
  },
  {
   "cell_type": "code",
   "execution_count": null,
   "id": "952a93f6",
   "metadata": {},
   "outputs": [],
   "source": [
    "SELECT COUNT(*) FROM customers;\n",
    "SELECT AVG(Total) FROM invoices;\n",
    "SELECT BillingCountry, SUM(Total)\n",
    "FROM invoices\n",
    "GROUP BY BillingCountry\n",
    "ORDER BY SUM(Total) DESC;"
   ]
  }
 ],
 "metadata": {
  "kernelspec": {
   "display_name": "Python 3 (ipykernel)",
   "language": "python",
   "name": "python3"
  },
  "language_info": {
   "codemirror_mode": {
    "name": "ipython",
    "version": 3
   },
   "file_extension": ".py",
   "mimetype": "text/x-python",
   "name": "python",
   "nbconvert_exporter": "python",
   "pygments_lexer": "ipython3",
   "version": "3.10.9"
  }
 },
 "nbformat": 4,
 "nbformat_minor": 5
}
