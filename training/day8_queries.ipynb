{
 "cells": [
  {
   "cell_type": "code",
   "execution_count": 28,
   "id": "5540811c",
   "metadata": {},
   "outputs": [],
   "source": [
    "import sqlite3"
   ]
  },
  {
   "cell_type": "code",
   "execution_count": null,
   "id": "789dbb51",
   "metadata": {},
   "outputs": [],
   "source": [
    "C:\\Users\\HPW>cd /d E:\\QuantLake"
   ]
  },
  {
   "cell_type": "code",
   "execution_count": null,
   "id": "6f7d47c9",
   "metadata": {},
   "outputs": [],
   "source": [
    "E:\\QuantLake>sqlite3 chinook.db"
   ]
  },
  {
   "cell_type": "markdown",
   "id": "11a0b3e2",
   "metadata": {},
   "source": [
    "# TASK-1"
   ]
  },
  {
   "cell_type": "code",
   "execution_count": null,
   "id": "d4d37f2f",
   "metadata": {},
   "outputs": [],
   "source": [
    "SELECT * FROM customers"
   ]
  },
  {
   "cell_type": "code",
   "execution_count": null,
   "id": "cc2cff71",
   "metadata": {},
   "outputs": [],
   "source": [
    "SELECT * FROM customers\n",
    "WHERE Country='USA' AND CustomerId>10;"
   ]
  },
  {
   "cell_type": "code",
   "execution_count": null,
   "id": "aba93940",
   "metadata": {},
   "outputs": [],
   "source": [
    "SELECT * FROM customers\n",
    "WHERE Country = 'USA' OR Country = 'Canada';"
   ]
  },
  {
   "cell_type": "code",
   "execution_count": null,
   "id": "45d74ba9",
   "metadata": {},
   "outputs": [],
   "source": [
    "SELECT * FROM invoices\n",
    "WHERE Total<5;"
   ]
  },
  {
   "cell_type": "code",
   "execution_count": null,
   "id": "5ce0528a",
   "metadata": {},
   "outputs": [],
   "source": [
    "SELECT * FROM customers\n",
    "WHERE Country !='USA';"
   ]
  },
  {
   "cell_type": "markdown",
   "id": "432653b4",
   "metadata": {},
   "source": [
    "# TASK-2"
   ]
  },
  {
   "cell_type": "code",
   "execution_count": null,
   "id": "565827cc",
   "metadata": {},
   "outputs": [],
   "source": [
    "SELECT BillingCountry, COUNT(*) AS NumInvoices, AVG(Total) AS AvgAmount\n",
    "   ...> FROM invoices\n",
    "   ...> WHERE Total > 10\n",
    "   ...> GROUP BY BillingCountry;"
   ]
  },
  {
   "cell_type": "code",
   "execution_count": null,
   "id": "71eaa699",
   "metadata": {},
   "outputs": [],
   "source": [
    "sqlite> SELECT Name\n",
    "   ...> FROM tracks\n",
    "   ...> WHERE AlbumId IN (\n",
    "(x1...>     SELECT AlbumId\n",
    "(x1...>     FROM albums\n",
    "(x1...>     WHERE ArtistId IN (\n",
    "(x2...>         SELECT ArtistId\n",
    "(x2...>         FROM artists\n",
    "(x2...>         WHERE Name = 'Queen'\n",
    "(x2...>     )\n",
    "(x1...> );"
   ]
  },
  {
   "cell_type": "code",
   "execution_count": null,
   "id": "91e9a12d",
   "metadata": {},
   "outputs": [],
   "source": [
    "sqlite> SELECT Title\n",
    "   ...> FROM albums\n",
    "   ...> WHERE AlbumId IN (\n",
    "(x1...>     SELECT AlbumId\n",
    "(x1...>     FROM tracks\n",
    "(x1...>     GROUP BY AlbumId\n",
    "(x1...>     HAVING COUNT(*) > 10\n",
    "(x1...> );"
   ]
  },
  {
   "cell_type": "code",
   "execution_count": null,
   "id": "14a37f48",
   "metadata": {},
   "outputs": [],
   "source": [
    "sqlite> SELECT Name\n",
    "   ...> FROM artists\n",
    "   ...> WHERE ArtistId IN (\n",
    "(x1...>     SELECT ArtistId\n",
    "(x1...>     FROM albums\n",
    "(x1...>     WHERE AlbumId IN (\n",
    "(x2...>         SELECT AlbumId\n",
    "(x2...>         FROM tracks\n",
    "(x2...>         WHERE GenreId = (\n",
    "(x3...>             SELECT GenreId FROM genres WHERE Name = 'Rock'\n",
    "(x3...>         )\n",
    "(x2...>     )\n",
    "(x1...> );"
   ]
  },
  {
   "cell_type": "code",
   "execution_count": null,
   "id": "c6e3966b",
   "metadata": {},
   "outputs": [],
   "source": [
    "sqlite> SELECT Name\n",
    "   ...> FROM playlists\n",
    "   ...> WHERE PlaylistId IN (\n",
    "(x1...>     SELECT PlaylistId\n",
    "(x1...>     FROM playlist_track\n",
    "(x1...>     WHERE TrackId = (\n",
    "(x2...>         SELECT TrackId FROM tracks WHERE Name = 'Smells Like Teen Spirit'\n",
    "(x2...>     )\n",
    "(x1...> );"
   ]
  },
  {
   "cell_type": "code",
   "execution_count": null,
   "id": "47bdb9f3",
   "metadata": {},
   "outputs": [],
   "source": [
    "sqlite> SELECT FirstName, LastName\n",
    "   ...> FROM employees\n",
    "   ...> WHERE EmployeeId IN (\n",
    "(x1...>     SELECT ReportsTo FROM employees WHERE ReportsTo IS NOT NULL\n",
    "(x1...> );"
   ]
  },
  {
   "cell_type": "markdown",
   "id": "13343a1c",
   "metadata": {},
   "source": [
    "# TASK-3"
   ]
  },
  {
   "cell_type": "code",
   "execution_count": null,
   "id": "24649c51",
   "metadata": {},
   "outputs": [],
   "source": [
    "import pandas as pd"
   ]
  },
  {
   "cell_type": "code",
   "execution_count": 13,
   "id": "ae946181",
   "metadata": {},
   "outputs": [],
   "source": [
    "# Connect to your SQLite database\n",
    "conn = sqlite3.connect('E:/QuantLake/chinook.db')"
   ]
  },
  {
   "cell_type": "code",
   "execution_count": 14,
   "id": "b8743036",
   "metadata": {},
   "outputs": [],
   "source": [
    "# Example: Query invoices where total > 15\n",
    "query = \"\"\"\n",
    "SELECT InvoiceId, CustomerId, BillingCountry, Total\n",
    "FROM invoices\n",
    "WHERE Total > 15\n",
    "\"\"\""
   ]
  },
  {
   "cell_type": "code",
   "execution_count": 15,
   "id": "899e0cea",
   "metadata": {},
   "outputs": [],
   "source": [
    "# Execute the SQL query and load the result into a DataFrame\n",
    "df = pd.read_sql_query(query, conn)"
   ]
  },
  {
   "cell_type": "code",
   "execution_count": 16,
   "id": "9c7e7fb3",
   "metadata": {},
   "outputs": [
    {
     "name": "stdout",
     "output_type": "stream",
     "text": [
      "First 5 rows:\n"
     ]
    },
    {
     "data": {
      "text/html": [
       "<div>\n",
       "<style scoped>\n",
       "    .dataframe tbody tr th:only-of-type {\n",
       "        vertical-align: middle;\n",
       "    }\n",
       "\n",
       "    .dataframe tbody tr th {\n",
       "        vertical-align: top;\n",
       "    }\n",
       "\n",
       "    .dataframe thead th {\n",
       "        text-align: right;\n",
       "    }\n",
       "</style>\n",
       "<table border=\"1\" class=\"dataframe\">\n",
       "  <thead>\n",
       "    <tr style=\"text-align: right;\">\n",
       "      <th></th>\n",
       "      <th>InvoiceId</th>\n",
       "      <th>CustomerId</th>\n",
       "      <th>BillingCountry</th>\n",
       "      <th>Total</th>\n",
       "    </tr>\n",
       "  </thead>\n",
       "  <tbody>\n",
       "    <tr>\n",
       "      <th>0</th>\n",
       "      <td>88</td>\n",
       "      <td>57</td>\n",
       "      <td>Chile</td>\n",
       "      <td>17.91</td>\n",
       "    </tr>\n",
       "    <tr>\n",
       "      <th>1</th>\n",
       "      <td>89</td>\n",
       "      <td>7</td>\n",
       "      <td>Austria</td>\n",
       "      <td>18.86</td>\n",
       "    </tr>\n",
       "    <tr>\n",
       "      <th>2</th>\n",
       "      <td>96</td>\n",
       "      <td>45</td>\n",
       "      <td>Hungary</td>\n",
       "      <td>21.86</td>\n",
       "    </tr>\n",
       "    <tr>\n",
       "      <th>3</th>\n",
       "      <td>103</td>\n",
       "      <td>24</td>\n",
       "      <td>USA</td>\n",
       "      <td>15.86</td>\n",
       "    </tr>\n",
       "    <tr>\n",
       "      <th>4</th>\n",
       "      <td>194</td>\n",
       "      <td>46</td>\n",
       "      <td>Ireland</td>\n",
       "      <td>21.86</td>\n",
       "    </tr>\n",
       "  </tbody>\n",
       "</table>\n",
       "</div>"
      ],
      "text/plain": [
       "   InvoiceId  CustomerId BillingCountry  Total\n",
       "0         88          57          Chile  17.91\n",
       "1         89           7        Austria  18.86\n",
       "2         96          45        Hungary  21.86\n",
       "3        103          24            USA  15.86\n",
       "4        194          46        Ireland  21.86"
      ]
     },
     "execution_count": 16,
     "metadata": {},
     "output_type": "execute_result"
    }
   ],
   "source": [
    "# Explore the DataFrame\n",
    "print(\"First 5 rows:\")\n",
    "df.head()"
   ]
  },
  {
   "cell_type": "code",
   "execution_count": 17,
   "id": "13a24791",
   "metadata": {},
   "outputs": [
    {
     "data": {
      "text/plain": [
       "InvoiceId         0\n",
       "CustomerId        0\n",
       "BillingCountry    0\n",
       "Total             0\n",
       "dtype: int64"
      ]
     },
     "execution_count": 17,
     "metadata": {},
     "output_type": "execute_result"
    }
   ],
   "source": [
    "df.isnull().sum()"
   ]
  },
  {
   "cell_type": "code",
   "execution_count": 18,
   "id": "f4fa12a2",
   "metadata": {},
   "outputs": [],
   "source": [
    "query1 = \"\"\"\n",
    "SELECT Name, Milliseconds\n",
    "FROM tracks\n",
    "WHERE Milliseconds > 300000\n",
    "\"\"\"\n"
   ]
  },
  {
   "cell_type": "code",
   "execution_count": 19,
   "id": "79d96d82",
   "metadata": {},
   "outputs": [],
   "source": [
    "df = pd.read_sql_query(query1, conn)"
   ]
  },
  {
   "cell_type": "code",
   "execution_count": 20,
   "id": "2371cc60",
   "metadata": {
    "scrolled": true
   },
   "outputs": [
    {
     "data": {
      "text/html": [
       "<div>\n",
       "<style scoped>\n",
       "    .dataframe tbody tr th:only-of-type {\n",
       "        vertical-align: middle;\n",
       "    }\n",
       "\n",
       "    .dataframe tbody tr th {\n",
       "        vertical-align: top;\n",
       "    }\n",
       "\n",
       "    .dataframe thead th {\n",
       "        text-align: right;\n",
       "    }\n",
       "</style>\n",
       "<table border=\"1\" class=\"dataframe\">\n",
       "  <thead>\n",
       "    <tr style=\"text-align: right;\">\n",
       "      <th></th>\n",
       "      <th>Name</th>\n",
       "      <th>Milliseconds</th>\n",
       "    </tr>\n",
       "  </thead>\n",
       "  <tbody>\n",
       "    <tr>\n",
       "      <th>0</th>\n",
       "      <td>For Those About To Rock (We Salute You)</td>\n",
       "      <td>343719</td>\n",
       "    </tr>\n",
       "    <tr>\n",
       "      <th>1</th>\n",
       "      <td>Balls to the Wall</td>\n",
       "      <td>342562</td>\n",
       "    </tr>\n",
       "    <tr>\n",
       "      <th>2</th>\n",
       "      <td>Princess of the Dawn</td>\n",
       "      <td>375418</td>\n",
       "    </tr>\n",
       "    <tr>\n",
       "      <th>3</th>\n",
       "      <td>Go Down</td>\n",
       "      <td>331180</td>\n",
       "    </tr>\n",
       "    <tr>\n",
       "      <th>4</th>\n",
       "      <td>Let There Be Rock</td>\n",
       "      <td>366654</td>\n",
       "    </tr>\n",
       "    <tr>\n",
       "      <th>...</th>\n",
       "      <td>...</td>\n",
       "      <td>...</td>\n",
       "    </tr>\n",
       "    <tr>\n",
       "      <th>1064</th>\n",
       "      <td>Act IV, Symphony</td>\n",
       "      <td>364296</td>\n",
       "    </tr>\n",
       "    <tr>\n",
       "      <th>1065</th>\n",
       "      <td>3 Gymnopédies: No.1 - Lent Et Grave, No.3 - Le...</td>\n",
       "      <td>385506</td>\n",
       "    </tr>\n",
       "    <tr>\n",
       "      <th>1066</th>\n",
       "      <td>Symphony No. 2: III. Allegro vivace</td>\n",
       "      <td>376510</td>\n",
       "    </tr>\n",
       "    <tr>\n",
       "      <th>1067</th>\n",
       "      <td>Metopes, Op. 29: Calypso</td>\n",
       "      <td>333669</td>\n",
       "    </tr>\n",
       "    <tr>\n",
       "      <th>1068</th>\n",
       "      <td>Concerto for Violin, Strings and Continuo in G...</td>\n",
       "      <td>493573</td>\n",
       "    </tr>\n",
       "  </tbody>\n",
       "</table>\n",
       "<p>1069 rows × 2 columns</p>\n",
       "</div>"
      ],
      "text/plain": [
       "                                                   Name  Milliseconds\n",
       "0               For Those About To Rock (We Salute You)        343719\n",
       "1                                     Balls to the Wall        342562\n",
       "2                                  Princess of the Dawn        375418\n",
       "3                                               Go Down        331180\n",
       "4                                     Let There Be Rock        366654\n",
       "...                                                 ...           ...\n",
       "1064                                   Act IV, Symphony        364296\n",
       "1065  3 Gymnopédies: No.1 - Lent Et Grave, No.3 - Le...        385506\n",
       "1066                Symphony No. 2: III. Allegro vivace        376510\n",
       "1067                           Metopes, Op. 29: Calypso        333669\n",
       "1068  Concerto for Violin, Strings and Continuo in G...        493573\n",
       "\n",
       "[1069 rows x 2 columns]"
      ]
     },
     "execution_count": 20,
     "metadata": {},
     "output_type": "execute_result"
    }
   ],
   "source": [
    "df"
   ]
  },
  {
   "cell_type": "markdown",
   "id": "b47effcc",
   "metadata": {},
   "source": [
    "# TASK-4"
   ]
  },
  {
   "cell_type": "code",
   "execution_count": null,
   "id": "22ef18eb",
   "metadata": {},
   "outputs": [],
   "source": [
    "UPDATE customers\n",
    "SET Country='India'\n",
    "WHERE Country IS NULL;"
   ]
  },
  {
   "cell_type": "code",
   "execution_count": null,
   "id": "a7eb02f1",
   "metadata": {},
   "outputs": [],
   "source": [
    "SELECT CustomerId, FirstName, LastName, Country\n",
    "FROM customers\n",
    "WHERE Country = 'India';"
   ]
  },
  {
   "cell_type": "code",
   "execution_count": null,
   "id": "fd3a5222",
   "metadata": {},
   "outputs": [],
   "source": [
    "DELETE FROM invoices\n",
    "WHERE Total < 1;"
   ]
  },
  {
   "cell_type": "code",
   "execution_count": null,
   "id": "c7ed0523",
   "metadata": {},
   "outputs": [],
   "source": [
    "SELECT * FROM invoices\n",
    "WHERE Total < 1;"
   ]
  },
  {
   "cell_type": "markdown",
   "id": "d481d811",
   "metadata": {},
   "source": [
    "# TASK-5"
   ]
  },
  {
   "cell_type": "code",
   "execution_count": 21,
   "id": "62daafac",
   "metadata": {},
   "outputs": [],
   "source": [
    "customers_df = pd.read_sql_query(\"SELECT CustomerId, FirstName, Country FROM customers\", conn)"
   ]
  },
  {
   "cell_type": "code",
   "execution_count": 22,
   "id": "bf010954",
   "metadata": {},
   "outputs": [],
   "source": [
    "invoices_df = pd.read_sql_query(\"SELECT InvoiceId, CustomerId, Total FROM invoices\", conn)"
   ]
  },
  {
   "cell_type": "code",
   "execution_count": 23,
   "id": "1e8cba6b",
   "metadata": {},
   "outputs": [],
   "source": [
    "# Performing INNER JOIN on CustomerId\n",
    "merged_df = pd.merge(customers_df, invoices_df, on='CustomerId', how='inner')"
   ]
  },
  {
   "cell_type": "code",
   "execution_count": 24,
   "id": "881fc042",
   "metadata": {},
   "outputs": [
    {
     "data": {
      "text/html": [
       "<div>\n",
       "<style scoped>\n",
       "    .dataframe tbody tr th:only-of-type {\n",
       "        vertical-align: middle;\n",
       "    }\n",
       "\n",
       "    .dataframe tbody tr th {\n",
       "        vertical-align: top;\n",
       "    }\n",
       "\n",
       "    .dataframe thead th {\n",
       "        text-align: right;\n",
       "    }\n",
       "</style>\n",
       "<table border=\"1\" class=\"dataframe\">\n",
       "  <thead>\n",
       "    <tr style=\"text-align: right;\">\n",
       "      <th></th>\n",
       "      <th>CustomerId</th>\n",
       "      <th>FirstName</th>\n",
       "      <th>Country</th>\n",
       "      <th>InvoiceId</th>\n",
       "      <th>Total</th>\n",
       "    </tr>\n",
       "  </thead>\n",
       "  <tbody>\n",
       "    <tr>\n",
       "      <th>0</th>\n",
       "      <td>1</td>\n",
       "      <td>Luís</td>\n",
       "      <td>Brazil</td>\n",
       "      <td>98</td>\n",
       "      <td>3.98</td>\n",
       "    </tr>\n",
       "    <tr>\n",
       "      <th>1</th>\n",
       "      <td>1</td>\n",
       "      <td>Luís</td>\n",
       "      <td>Brazil</td>\n",
       "      <td>121</td>\n",
       "      <td>3.96</td>\n",
       "    </tr>\n",
       "    <tr>\n",
       "      <th>2</th>\n",
       "      <td>1</td>\n",
       "      <td>Luís</td>\n",
       "      <td>Brazil</td>\n",
       "      <td>143</td>\n",
       "      <td>5.94</td>\n",
       "    </tr>\n",
       "    <tr>\n",
       "      <th>3</th>\n",
       "      <td>1</td>\n",
       "      <td>Luís</td>\n",
       "      <td>Brazil</td>\n",
       "      <td>316</td>\n",
       "      <td>1.98</td>\n",
       "    </tr>\n",
       "    <tr>\n",
       "      <th>4</th>\n",
       "      <td>1</td>\n",
       "      <td>Luís</td>\n",
       "      <td>Brazil</td>\n",
       "      <td>327</td>\n",
       "      <td>13.86</td>\n",
       "    </tr>\n",
       "    <tr>\n",
       "      <th>...</th>\n",
       "      <td>...</td>\n",
       "      <td>...</td>\n",
       "      <td>...</td>\n",
       "      <td>...</td>\n",
       "      <td>...</td>\n",
       "    </tr>\n",
       "    <tr>\n",
       "      <th>352</th>\n",
       "      <td>59</td>\n",
       "      <td>Puja</td>\n",
       "      <td>India</td>\n",
       "      <td>45</td>\n",
       "      <td>5.94</td>\n",
       "    </tr>\n",
       "    <tr>\n",
       "      <th>353</th>\n",
       "      <td>59</td>\n",
       "      <td>Puja</td>\n",
       "      <td>India</td>\n",
       "      <td>97</td>\n",
       "      <td>1.99</td>\n",
       "    </tr>\n",
       "    <tr>\n",
       "      <th>354</th>\n",
       "      <td>59</td>\n",
       "      <td>Puja</td>\n",
       "      <td>India</td>\n",
       "      <td>218</td>\n",
       "      <td>1.98</td>\n",
       "    </tr>\n",
       "    <tr>\n",
       "      <th>355</th>\n",
       "      <td>59</td>\n",
       "      <td>Puja</td>\n",
       "      <td>India</td>\n",
       "      <td>229</td>\n",
       "      <td>13.86</td>\n",
       "    </tr>\n",
       "    <tr>\n",
       "      <th>356</th>\n",
       "      <td>59</td>\n",
       "      <td>Puja</td>\n",
       "      <td>India</td>\n",
       "      <td>284</td>\n",
       "      <td>8.91</td>\n",
       "    </tr>\n",
       "  </tbody>\n",
       "</table>\n",
       "<p>357 rows × 5 columns</p>\n",
       "</div>"
      ],
      "text/plain": [
       "     CustomerId FirstName Country  InvoiceId  Total\n",
       "0             1      Luís  Brazil         98   3.98\n",
       "1             1      Luís  Brazil        121   3.96\n",
       "2             1      Luís  Brazil        143   5.94\n",
       "3             1      Luís  Brazil        316   1.98\n",
       "4             1      Luís  Brazil        327  13.86\n",
       "..          ...       ...     ...        ...    ...\n",
       "352          59      Puja   India         45   5.94\n",
       "353          59      Puja   India         97   1.99\n",
       "354          59      Puja   India        218   1.98\n",
       "355          59      Puja   India        229  13.86\n",
       "356          59      Puja   India        284   8.91\n",
       "\n",
       "[357 rows x 5 columns]"
      ]
     },
     "execution_count": 24,
     "metadata": {},
     "output_type": "execute_result"
    }
   ],
   "source": [
    "merged_df"
   ]
  },
  {
   "cell_type": "code",
   "execution_count": 25,
   "id": "f002efa8",
   "metadata": {},
   "outputs": [],
   "source": [
    "invoice_items_df = pd.read_sql_query(\"SELECT InvoiceLineId, InvoiceId, TrackId, UnitPrice, Quantity FROM invoice_items\", conn)\n",
    "tracks_df = pd.read_sql_query(\"SELECT TrackId, Name AS TrackName, GenreId FROM tracks\", conn)"
   ]
  },
  {
   "cell_type": "code",
   "execution_count": 26,
   "id": "30bbd9f1",
   "metadata": {},
   "outputs": [],
   "source": [
    "# Merged on TrackId\n",
    "merged_tracks_df = pd.merge(invoice_items_df, tracks_df, on='TrackId', how='inner')\n"
   ]
  },
  {
   "cell_type": "code",
   "execution_count": 27,
   "id": "4e6d1beb",
   "metadata": {},
   "outputs": [
    {
     "data": {
      "text/html": [
       "<div>\n",
       "<style scoped>\n",
       "    .dataframe tbody tr th:only-of-type {\n",
       "        vertical-align: middle;\n",
       "    }\n",
       "\n",
       "    .dataframe tbody tr th {\n",
       "        vertical-align: top;\n",
       "    }\n",
       "\n",
       "    .dataframe thead th {\n",
       "        text-align: right;\n",
       "    }\n",
       "</style>\n",
       "<table border=\"1\" class=\"dataframe\">\n",
       "  <thead>\n",
       "    <tr style=\"text-align: right;\">\n",
       "      <th></th>\n",
       "      <th>InvoiceLineId</th>\n",
       "      <th>InvoiceId</th>\n",
       "      <th>TrackId</th>\n",
       "      <th>UnitPrice</th>\n",
       "      <th>Quantity</th>\n",
       "      <th>TrackName</th>\n",
       "      <th>GenreId</th>\n",
       "    </tr>\n",
       "  </thead>\n",
       "  <tbody>\n",
       "    <tr>\n",
       "      <th>0</th>\n",
       "      <td>1</td>\n",
       "      <td>1</td>\n",
       "      <td>2</td>\n",
       "      <td>0.99</td>\n",
       "      <td>1</td>\n",
       "      <td>Balls to the Wall</td>\n",
       "      <td>1</td>\n",
       "    </tr>\n",
       "    <tr>\n",
       "      <th>1</th>\n",
       "      <td>2</td>\n",
       "      <td>1</td>\n",
       "      <td>4</td>\n",
       "      <td>0.99</td>\n",
       "      <td>1</td>\n",
       "      <td>Restless and Wild</td>\n",
       "      <td>1</td>\n",
       "    </tr>\n",
       "    <tr>\n",
       "      <th>2</th>\n",
       "      <td>3</td>\n",
       "      <td>2</td>\n",
       "      <td>6</td>\n",
       "      <td>0.99</td>\n",
       "      <td>1</td>\n",
       "      <td>Put The Finger On You</td>\n",
       "      <td>1</td>\n",
       "    </tr>\n",
       "    <tr>\n",
       "      <th>3</th>\n",
       "      <td>4</td>\n",
       "      <td>2</td>\n",
       "      <td>8</td>\n",
       "      <td>0.99</td>\n",
       "      <td>1</td>\n",
       "      <td>Inject The Venom</td>\n",
       "      <td>1</td>\n",
       "    </tr>\n",
       "    <tr>\n",
       "      <th>4</th>\n",
       "      <td>5</td>\n",
       "      <td>2</td>\n",
       "      <td>10</td>\n",
       "      <td>0.99</td>\n",
       "      <td>1</td>\n",
       "      <td>Evil Walks</td>\n",
       "      <td>1</td>\n",
       "    </tr>\n",
       "    <tr>\n",
       "      <th>...</th>\n",
       "      <td>...</td>\n",
       "      <td>...</td>\n",
       "      <td>...</td>\n",
       "      <td>...</td>\n",
       "      <td>...</td>\n",
       "      <td>...</td>\n",
       "      <td>...</td>\n",
       "    </tr>\n",
       "    <tr>\n",
       "      <th>2235</th>\n",
       "      <td>2236</td>\n",
       "      <td>411</td>\n",
       "      <td>3136</td>\n",
       "      <td>0.99</td>\n",
       "      <td>1</td>\n",
       "      <td>Looking For Love</td>\n",
       "      <td>3</td>\n",
       "    </tr>\n",
       "    <tr>\n",
       "      <th>2236</th>\n",
       "      <td>2237</td>\n",
       "      <td>411</td>\n",
       "      <td>3145</td>\n",
       "      <td>0.99</td>\n",
       "      <td>1</td>\n",
       "      <td>Sweet Lady Luck</td>\n",
       "      <td>3</td>\n",
       "    </tr>\n",
       "    <tr>\n",
       "      <th>2237</th>\n",
       "      <td>2238</td>\n",
       "      <td>411</td>\n",
       "      <td>3154</td>\n",
       "      <td>0.99</td>\n",
       "      <td>1</td>\n",
       "      <td>Feirinha da Pavuna/Luz do Repente/Bagaço da La...</td>\n",
       "      <td>7</td>\n",
       "    </tr>\n",
       "    <tr>\n",
       "      <th>2238</th>\n",
       "      <td>2239</td>\n",
       "      <td>411</td>\n",
       "      <td>3163</td>\n",
       "      <td>0.99</td>\n",
       "      <td>1</td>\n",
       "      <td>Samba pras moças</td>\n",
       "      <td>7</td>\n",
       "    </tr>\n",
       "    <tr>\n",
       "      <th>2239</th>\n",
       "      <td>2240</td>\n",
       "      <td>412</td>\n",
       "      <td>3177</td>\n",
       "      <td>1.99</td>\n",
       "      <td>1</td>\n",
       "      <td>Hot Girl</td>\n",
       "      <td>19</td>\n",
       "    </tr>\n",
       "  </tbody>\n",
       "</table>\n",
       "<p>2240 rows × 7 columns</p>\n",
       "</div>"
      ],
      "text/plain": [
       "      InvoiceLineId  InvoiceId  TrackId  UnitPrice  Quantity  \\\n",
       "0                 1          1        2       0.99         1   \n",
       "1                 2          1        4       0.99         1   \n",
       "2                 3          2        6       0.99         1   \n",
       "3                 4          2        8       0.99         1   \n",
       "4                 5          2       10       0.99         1   \n",
       "...             ...        ...      ...        ...       ...   \n",
       "2235           2236        411     3136       0.99         1   \n",
       "2236           2237        411     3145       0.99         1   \n",
       "2237           2238        411     3154       0.99         1   \n",
       "2238           2239        411     3163       0.99         1   \n",
       "2239           2240        412     3177       1.99         1   \n",
       "\n",
       "                                              TrackName  GenreId  \n",
       "0                                     Balls to the Wall        1  \n",
       "1                                     Restless and Wild        1  \n",
       "2                                 Put The Finger On You        1  \n",
       "3                                      Inject The Venom        1  \n",
       "4                                            Evil Walks        1  \n",
       "...                                                 ...      ...  \n",
       "2235                                   Looking For Love        3  \n",
       "2236                                    Sweet Lady Luck        3  \n",
       "2237  Feirinha da Pavuna/Luz do Repente/Bagaço da La...        7  \n",
       "2238                                   Samba pras moças        7  \n",
       "2239                                           Hot Girl       19  \n",
       "\n",
       "[2240 rows x 7 columns]"
      ]
     },
     "execution_count": 27,
     "metadata": {},
     "output_type": "execute_result"
    }
   ],
   "source": [
    "merged_tracks_df"
   ]
  }
 ],
 "metadata": {
  "kernelspec": {
   "display_name": "Python 3 (ipykernel)",
   "language": "python",
   "name": "python3"
  },
  "language_info": {
   "codemirror_mode": {
    "name": "ipython",
    "version": 3
   },
   "file_extension": ".py",
   "mimetype": "text/x-python",
   "name": "python",
   "nbconvert_exporter": "python",
   "pygments_lexer": "ipython3",
   "version": "3.10.9"
  }
 },
 "nbformat": 4,
 "nbformat_minor": 5
}
