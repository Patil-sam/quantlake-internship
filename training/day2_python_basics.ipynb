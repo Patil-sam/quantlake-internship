{
 "cells": [
  {
   "cell_type": "markdown",
   "id": "3878dbf4",
   "metadata": {},
   "source": [
    "# TASK1"
   ]
  },
  {
   "cell_type": "markdown",
   "id": "d14ac18e",
   "metadata": {},
   "source": [
    "Task 1: Data Structures Deep Dive\n",
    "• Work with:\n",
    "o list, tuple, set, dict\n",
    "• Practice:\n",
    "o List comprehensions\n",
    "o Dictionary nesting and lookup\n",
    "• Write code that:\n",
    "o Sorts a list, removes duplicates using a set.\n",
    "o Accesses deeply nested dictionary values."
   ]
  },
  {
   "cell_type": "markdown",
   "id": "661659dd",
   "metadata": {},
   "source": [
    "# List"
   ]
  },
  {
   "cell_type": "code",
   "execution_count": 2,
   "id": "faf8e651",
   "metadata": {},
   "outputs": [],
   "source": [
    "a=[10,20,30,20,58]"
   ]
  },
  {
   "cell_type": "code",
   "execution_count": 3,
   "id": "d680b1fc",
   "metadata": {},
   "outputs": [
    {
     "data": {
      "text/plain": [
       "[10, 20, 30, 20, 58]"
      ]
     },
     "execution_count": 3,
     "metadata": {},
     "output_type": "execute_result"
    }
   ],
   "source": [
    "a"
   ]
  },
  {
   "cell_type": "code",
   "execution_count": 4,
   "id": "a739e02e",
   "metadata": {},
   "outputs": [
    {
     "data": {
      "text/plain": [
       "30"
      ]
     },
     "execution_count": 4,
     "metadata": {},
     "output_type": "execute_result"
    }
   ],
   "source": [
    "a[2]"
   ]
  },
  {
   "cell_type": "code",
   "execution_count": 5,
   "id": "cf8a48ca",
   "metadata": {},
   "outputs": [
    {
     "data": {
      "text/plain": [
       "58"
      ]
     },
     "execution_count": 5,
     "metadata": {},
     "output_type": "execute_result"
    }
   ],
   "source": [
    "a[-1]"
   ]
  },
  {
   "cell_type": "code",
   "execution_count": 6,
   "id": "c3eb859a",
   "metadata": {},
   "outputs": [],
   "source": [
    "a = ['Hello', 'jimmy', '1',2,10,4,5,9.0]"
   ]
  },
  {
   "cell_type": "code",
   "execution_count": 7,
   "id": "0d9f25d8",
   "metadata": {},
   "outputs": [
    {
     "data": {
      "text/plain": [
       "['Hello', 'jimmy', '1', 2, 10, 4, 5, 9.0]"
      ]
     },
     "execution_count": 7,
     "metadata": {},
     "output_type": "execute_result"
    }
   ],
   "source": [
    "a"
   ]
  },
  {
   "cell_type": "code",
   "execution_count": 8,
   "id": "b2a09443",
   "metadata": {},
   "outputs": [
    {
     "data": {
      "text/plain": [
       "'m'"
      ]
     },
     "execution_count": 8,
     "metadata": {},
     "output_type": "execute_result"
    }
   ],
   "source": [
    "a[1][2]"
   ]
  },
  {
   "cell_type": "code",
   "execution_count": 9,
   "id": "fc5e500f",
   "metadata": {},
   "outputs": [
    {
     "data": {
      "text/plain": [
       "['Hello', 'jimmy', '1', 2, 10, 4, 5, 9.0]"
      ]
     },
     "execution_count": 9,
     "metadata": {},
     "output_type": "execute_result"
    }
   ],
   "source": [
    "a[:]"
   ]
  },
  {
   "cell_type": "code",
   "execution_count": 10,
   "id": "66481655",
   "metadata": {},
   "outputs": [],
   "source": [
    "fruits=[\"apple\",\"banana\",\"mango\",\"cherry\"]"
   ]
  },
  {
   "cell_type": "code",
   "execution_count": 11,
   "id": "b959f9e0",
   "metadata": {},
   "outputs": [
    {
     "data": {
      "text/plain": [
       "['apple', 'banana', 'mango', 'cherry']"
      ]
     },
     "execution_count": 11,
     "metadata": {},
     "output_type": "execute_result"
    }
   ],
   "source": [
    "fruits"
   ]
  },
  {
   "cell_type": "code",
   "execution_count": 14,
   "id": "c6895482",
   "metadata": {},
   "outputs": [],
   "source": [
    "fruits.append(\"orange\")#append adds elements at last position of the list"
   ]
  },
  {
   "cell_type": "code",
   "execution_count": 15,
   "id": "678cc728",
   "metadata": {},
   "outputs": [
    {
     "data": {
      "text/plain": [
       "['apple', 'banana', 'mango', 'cherry', 'orange', 'orange']"
      ]
     },
     "execution_count": 15,
     "metadata": {},
     "output_type": "execute_result"
    }
   ],
   "source": [
    "fruits"
   ]
  },
  {
   "cell_type": "code",
   "execution_count": 19,
   "id": "eb1c9e85",
   "metadata": {},
   "outputs": [],
   "source": [
    "fruits.insert(1,\"strawberry\")#insert adds the element at desired position"
   ]
  },
  {
   "cell_type": "code",
   "execution_count": 23,
   "id": "a1ffcf7b",
   "metadata": {},
   "outputs": [
    {
     "data": {
      "text/plain": [
       "['apple', 'strawberry', 'strawberry', 'mango', 'cherry', 'orange', 'orange']"
      ]
     },
     "execution_count": 23,
     "metadata": {},
     "output_type": "execute_result"
    }
   ],
   "source": [
    "fruits"
   ]
  },
  {
   "cell_type": "code",
   "execution_count": 21,
   "id": "dcbabbe1",
   "metadata": {},
   "outputs": [],
   "source": [
    "fruits.remove(\"banana\")"
   ]
  },
  {
   "cell_type": "code",
   "execution_count": 22,
   "id": "d2ed1882",
   "metadata": {},
   "outputs": [
    {
     "data": {
      "text/plain": [
       "['apple', 'strawberry', 'strawberry', 'mango', 'cherry', 'orange', 'orange']"
      ]
     },
     "execution_count": 22,
     "metadata": {},
     "output_type": "execute_result"
    }
   ],
   "source": [
    "fruits"
   ]
  },
  {
   "cell_type": "markdown",
   "id": "6336a261",
   "metadata": {},
   "source": [
    "# Tuple"
   ]
  },
  {
   "cell_type": "code",
   "execution_count": 24,
   "id": "bcac330e",
   "metadata": {},
   "outputs": [],
   "source": [
    "#tuple is immutable\n",
    "a=(1,2,2,3,3,3,44)"
   ]
  },
  {
   "cell_type": "code",
   "execution_count": 25,
   "id": "d7d8d05a",
   "metadata": {},
   "outputs": [
    {
     "data": {
      "text/plain": [
       "(1, 2, 2, 3, 3, 3, 44)"
      ]
     },
     "execution_count": 25,
     "metadata": {},
     "output_type": "execute_result"
    }
   ],
   "source": [
    "a"
   ]
  },
  {
   "cell_type": "code",
   "execution_count": 27,
   "id": "f0ce9a7a",
   "metadata": {},
   "outputs": [
    {
     "data": {
      "text/plain": [
       "3"
      ]
     },
     "execution_count": 27,
     "metadata": {},
     "output_type": "execute_result"
    }
   ],
   "source": [
    "a.count(3)#count() gives the count of element specified"
   ]
  },
  {
   "cell_type": "code",
   "execution_count": 28,
   "id": "a9451e61",
   "metadata": {},
   "outputs": [
    {
     "data": {
      "text/plain": [
       "0"
      ]
     },
     "execution_count": 28,
     "metadata": {},
     "output_type": "execute_result"
    }
   ],
   "source": [
    "a.index(1)#index() gives index of specified element"
   ]
  },
  {
   "cell_type": "markdown",
   "id": "f677a693",
   "metadata": {},
   "source": [
    "# Dictionary"
   ]
  },
  {
   "cell_type": "code",
   "execution_count": 29,
   "id": "68136de1",
   "metadata": {},
   "outputs": [],
   "source": [
    "my_dict = {'name1':'Jack', 'age': 26, 'name2':'bhupen'}"
   ]
  },
  {
   "cell_type": "code",
   "execution_count": 30,
   "id": "6dbe5bd2",
   "metadata": {},
   "outputs": [
    {
     "data": {
      "text/plain": [
       "{'name1': 'Jack', 'age': 26, 'name2': 'bhupen'}"
      ]
     },
     "execution_count": 30,
     "metadata": {},
     "output_type": "execute_result"
    }
   ],
   "source": [
    "my_dict"
   ]
  },
  {
   "cell_type": "code",
   "execution_count": 32,
   "id": "c783f524",
   "metadata": {},
   "outputs": [
    {
     "data": {
      "text/plain": [
       "'Jack'"
      ]
     },
     "execution_count": 32,
     "metadata": {},
     "output_type": "execute_result"
    }
   ],
   "source": [
    "my_dict[\"name1\"]"
   ]
  },
  {
   "cell_type": "code",
   "execution_count": 33,
   "id": "6639b0e1",
   "metadata": {},
   "outputs": [
    {
     "data": {
      "text/plain": [
       "26"
      ]
     },
     "execution_count": 33,
     "metadata": {},
     "output_type": "execute_result"
    }
   ],
   "source": [
    "my_dict.get(\"age\")"
   ]
  },
  {
   "cell_type": "code",
   "execution_count": 34,
   "id": "29ce01a0",
   "metadata": {},
   "outputs": [],
   "source": [
    "my_dict = {'name':'Jack', 'age': 26}"
   ]
  },
  {
   "cell_type": "code",
   "execution_count": 35,
   "id": "ad0a4199",
   "metadata": {},
   "outputs": [
    {
     "data": {
      "text/plain": [
       "{'name': 'Jack', 'age': 26}"
      ]
     },
     "execution_count": 35,
     "metadata": {},
     "output_type": "execute_result"
    }
   ],
   "source": [
    "my_dict"
   ]
  },
  {
   "cell_type": "code",
   "execution_count": 36,
   "id": "f7798ff3",
   "metadata": {},
   "outputs": [],
   "source": [
    "my_dict[\"address\"]=\"bengalore\""
   ]
  },
  {
   "cell_type": "code",
   "execution_count": 37,
   "id": "e221c1d2",
   "metadata": {},
   "outputs": [
    {
     "data": {
      "text/plain": [
       "{'name': 'Jack', 'age': 26, 'address': 'bengalore'}"
      ]
     },
     "execution_count": 37,
     "metadata": {},
     "output_type": "execute_result"
    }
   ],
   "source": [
    "my_dict"
   ]
  },
  {
   "cell_type": "code",
   "execution_count": 56,
   "id": "b56edbf0",
   "metadata": {},
   "outputs": [],
   "source": [
    "squares={1:1,2:4,3:9,4:16}"
   ]
  },
  {
   "cell_type": "code",
   "execution_count": 57,
   "id": "20088622",
   "metadata": {},
   "outputs": [
    {
     "data": {
      "text/plain": [
       "{1: 1, 2: 4, 3: 9, 4: 16}"
      ]
     },
     "execution_count": 57,
     "metadata": {},
     "output_type": "execute_result"
    }
   ],
   "source": [
    "squares"
   ]
  },
  {
   "cell_type": "code",
   "execution_count": 58,
   "id": "113631b2",
   "metadata": {},
   "outputs": [
    {
     "data": {
      "text/plain": [
       "dict_keys([1, 2, 3, 4])"
      ]
     },
     "execution_count": 58,
     "metadata": {},
     "output_type": "execute_result"
    }
   ],
   "source": [
    "squares.keys()"
   ]
  },
  {
   "cell_type": "code",
   "execution_count": 59,
   "id": "3ebe77f4",
   "metadata": {},
   "outputs": [
    {
     "data": {
      "text/plain": [
       "dict_values([1, 4, 9, 16])"
      ]
     },
     "execution_count": 59,
     "metadata": {},
     "output_type": "execute_result"
    }
   ],
   "source": [
    "squares.values()"
   ]
  },
  {
   "cell_type": "code",
   "execution_count": 60,
   "id": "cf8c849e",
   "metadata": {},
   "outputs": [
    {
     "data": {
      "text/plain": [
       "9"
      ]
     },
     "execution_count": 60,
     "metadata": {},
     "output_type": "execute_result"
    }
   ],
   "source": [
    "squares.pop(3)"
   ]
  },
  {
   "cell_type": "code",
   "execution_count": 61,
   "id": "ccbabb54",
   "metadata": {},
   "outputs": [
    {
     "data": {
      "text/plain": [
       "{1: 1, 2: 4, 4: 16}"
      ]
     },
     "execution_count": 61,
     "metadata": {},
     "output_type": "execute_result"
    }
   ],
   "source": [
    "squares"
   ]
  },
  {
   "cell_type": "code",
   "execution_count": 62,
   "id": "e098ee88",
   "metadata": {},
   "outputs": [
    {
     "data": {
      "text/plain": [
       "(4, 16)"
      ]
     },
     "execution_count": 62,
     "metadata": {},
     "output_type": "execute_result"
    }
   ],
   "source": [
    "squares.popitem()"
   ]
  },
  {
   "cell_type": "code",
   "execution_count": 63,
   "id": "86c5e7fb",
   "metadata": {},
   "outputs": [
    {
     "data": {
      "text/plain": [
       "{1: 1, 2: 4}"
      ]
     },
     "execution_count": 63,
     "metadata": {},
     "output_type": "execute_result"
    }
   ],
   "source": [
    "squares"
   ]
  },
  {
   "cell_type": "code",
   "execution_count": 65,
   "id": "9c8c9d1e",
   "metadata": {},
   "outputs": [],
   "source": [
    "squares.clear()"
   ]
  },
  {
   "cell_type": "code",
   "execution_count": 66,
   "id": "2ebdfbf8",
   "metadata": {},
   "outputs": [
    {
     "data": {
      "text/plain": [
       "{}"
      ]
     },
     "execution_count": 66,
     "metadata": {},
     "output_type": "execute_result"
    }
   ],
   "source": [
    "squares"
   ]
  },
  {
   "cell_type": "code",
   "execution_count": 67,
   "id": "61c63386",
   "metadata": {},
   "outputs": [],
   "source": [
    "a={1:1,2:4,3:9}"
   ]
  },
  {
   "cell_type": "code",
   "execution_count": 68,
   "id": "8c06679e",
   "metadata": {},
   "outputs": [],
   "source": [
    "b={4:16,5:25,6:36}"
   ]
  },
  {
   "cell_type": "code",
   "execution_count": 69,
   "id": "241c9831",
   "metadata": {},
   "outputs": [],
   "source": [
    "a.update(b)"
   ]
  },
  {
   "cell_type": "code",
   "execution_count": 70,
   "id": "15abe78d",
   "metadata": {},
   "outputs": [
    {
     "data": {
      "text/plain": [
       "{1: 1, 2: 4, 3: 9, 4: 16, 5: 25, 6: 36}"
      ]
     },
     "execution_count": 70,
     "metadata": {},
     "output_type": "execute_result"
    }
   ],
   "source": [
    "a"
   ]
  },
  {
   "cell_type": "code",
   "execution_count": 71,
   "id": "6013c464",
   "metadata": {},
   "outputs": [],
   "source": [
    "# nested dictionary\n",
    "users = {'user1': {'name': 'John', 'age': '27', 'sex': 'Male'},\n",
    "          'user2': {'name': 'Marie', 'age': '22', 'sex': 'Female'}}"
   ]
  },
  {
   "cell_type": "code",
   "execution_count": 72,
   "id": "f25eeadb",
   "metadata": {},
   "outputs": [
    {
     "data": {
      "text/plain": [
       "{'user1': {'name': 'John', 'age': '27', 'sex': 'Male'},\n",
       " 'user2': {'name': 'Marie', 'age': '22', 'sex': 'Female'}}"
      ]
     },
     "execution_count": 72,
     "metadata": {},
     "output_type": "execute_result"
    }
   ],
   "source": [
    "users"
   ]
  },
  {
   "cell_type": "markdown",
   "id": "ec5232e0",
   "metadata": {},
   "source": [
    "# Set"
   ]
  },
  {
   "cell_type": "code",
   "execution_count": 83,
   "id": "bed3f341",
   "metadata": {},
   "outputs": [],
   "source": [
    "set={1,2,3,3,3,3,3,3,4,2,13,42,4,353,21,4,32,56}"
   ]
  },
  {
   "cell_type": "code",
   "execution_count": 84,
   "id": "f4f047a3",
   "metadata": {},
   "outputs": [
    {
     "data": {
      "text/plain": [
       "{1, 2, 3, 4, 13, 21, 32, 42, 56, 353}"
      ]
     },
     "execution_count": 84,
     "metadata": {},
     "output_type": "execute_result"
    }
   ],
   "source": [
    "set"
   ]
  },
  {
   "cell_type": "code",
   "execution_count": 85,
   "id": "6f02ac27",
   "metadata": {},
   "outputs": [],
   "source": [
    "set={1,2,3,3,4,5,6}"
   ]
  },
  {
   "cell_type": "code",
   "execution_count": 86,
   "id": "2678d914",
   "metadata": {},
   "outputs": [
    {
     "data": {
      "text/plain": [
       "{1, 2, 3, 4, 5, 6}"
      ]
     },
     "execution_count": 86,
     "metadata": {},
     "output_type": "execute_result"
    }
   ],
   "source": [
    "set"
   ]
  },
  {
   "cell_type": "code",
   "execution_count": 87,
   "id": "37f17df5",
   "metadata": {},
   "outputs": [],
   "source": [
    "set.add(8)#used to add elements but element is added at last position"
   ]
  },
  {
   "cell_type": "code",
   "execution_count": 88,
   "id": "1780f678",
   "metadata": {},
   "outputs": [
    {
     "data": {
      "text/plain": [
       "{1, 2, 3, 4, 5, 6, 8}"
      ]
     },
     "execution_count": 88,
     "metadata": {},
     "output_type": "execute_result"
    }
   ],
   "source": [
    "set"
   ]
  },
  {
   "cell_type": "code",
   "execution_count": 91,
   "id": "fd6660b6",
   "metadata": {},
   "outputs": [],
   "source": [
    "set.update([9,10,11])#to add multiple elements"
   ]
  },
  {
   "cell_type": "code",
   "execution_count": 92,
   "id": "d6fa6927",
   "metadata": {},
   "outputs": [
    {
     "data": {
      "text/plain": [
       "{1, 2, 3, 4, 5, 6, 8, 9, 10, 11}"
      ]
     },
     "execution_count": 92,
     "metadata": {},
     "output_type": "execute_result"
    }
   ],
   "source": [
    "set"
   ]
  },
  {
   "cell_type": "code",
   "execution_count": 95,
   "id": "1dc7a80b",
   "metadata": {},
   "outputs": [],
   "source": [
    "set.discard(10)#discard an element"
   ]
  },
  {
   "cell_type": "code",
   "execution_count": 96,
   "id": "bf5c323f",
   "metadata": {},
   "outputs": [
    {
     "data": {
      "text/plain": [
       "{1, 2, 3, 4, 5, 6, 8, 9, 11}"
      ]
     },
     "execution_count": 96,
     "metadata": {},
     "output_type": "execute_result"
    }
   ],
   "source": [
    "set"
   ]
  },
  {
   "cell_type": "code",
   "execution_count": 97,
   "id": "10713bae",
   "metadata": {},
   "outputs": [],
   "source": [
    "set.remove(11)"
   ]
  },
  {
   "cell_type": "code",
   "execution_count": 98,
   "id": "4f23c60c",
   "metadata": {},
   "outputs": [
    {
     "data": {
      "text/plain": [
       "{1, 2, 3, 4, 5, 6, 8, 9}"
      ]
     },
     "execution_count": 98,
     "metadata": {},
     "output_type": "execute_result"
    }
   ],
   "source": [
    "set"
   ]
  },
  {
   "cell_type": "code",
   "execution_count": 99,
   "id": "86bec9b0",
   "metadata": {},
   "outputs": [
    {
     "data": {
      "text/plain": [
       "1"
      ]
     },
     "execution_count": 99,
     "metadata": {},
     "output_type": "execute_result"
    }
   ],
   "source": [
    "set.pop()"
   ]
  },
  {
   "cell_type": "code",
   "execution_count": 100,
   "id": "521bd7e5",
   "metadata": {},
   "outputs": [
    {
     "data": {
      "text/plain": [
       "{2, 3, 4, 5, 6, 8, 9}"
      ]
     },
     "execution_count": 100,
     "metadata": {},
     "output_type": "execute_result"
    }
   ],
   "source": [
    "set"
   ]
  },
  {
   "cell_type": "code",
   "execution_count": 102,
   "id": "28537e2e",
   "metadata": {},
   "outputs": [],
   "source": [
    "# Python Set Operations\n",
    "# UNION\n",
    "a = {1, 2, 3, 4, 5}\n",
    "b = {4, 5, 6, 7, 8}"
   ]
  },
  {
   "cell_type": "code",
   "execution_count": 103,
   "id": "b11e24f5",
   "metadata": {},
   "outputs": [
    {
     "data": {
      "text/plain": [
       "{1, 2, 3, 4, 5, 6, 7, 8}"
      ]
     },
     "execution_count": 103,
     "metadata": {},
     "output_type": "execute_result"
    }
   ],
   "source": [
    "a.union(b)#union"
   ]
  },
  {
   "cell_type": "code",
   "execution_count": 106,
   "id": "c841d36c",
   "metadata": {},
   "outputs": [
    {
     "data": {
      "text/plain": [
       "{4, 5}"
      ]
     },
     "execution_count": 106,
     "metadata": {},
     "output_type": "execute_result"
    }
   ],
   "source": [
    "a.intersection(b)#intersection"
   ]
  },
  {
   "cell_type": "code",
   "execution_count": 107,
   "id": "cf31c8b7",
   "metadata": {},
   "outputs": [
    {
     "name": "stdout",
     "output_type": "stream",
     "text": [
      "{1, 2, 3}\n"
     ]
    }
   ],
   "source": [
    "print(a-b)#set difference"
   ]
  },
  {
   "cell_type": "markdown",
   "id": "587dee1f",
   "metadata": {},
   "source": [
    "# -->"
   ]
  },
  {
   "cell_type": "markdown",
   "id": "e9b09121",
   "metadata": {},
   "source": [
    "1.Sort a List and Remove Duplicates Using a Set"
   ]
  },
  {
   "cell_type": "code",
   "execution_count": 113,
   "id": "04f52638",
   "metadata": {},
   "outputs": [],
   "source": [
    "del set\n",
    "numbers=[1,2,3,4,5,6,6,7,8,9,10,10]"
   ]
  },
  {
   "cell_type": "code",
   "execution_count": 114,
   "id": "797fccea",
   "metadata": {},
   "outputs": [],
   "source": [
    "sorted_list=sorted(set(numbers))"
   ]
  },
  {
   "cell_type": "code",
   "execution_count": 115,
   "id": "2bddb7fe",
   "metadata": {},
   "outputs": [
    {
     "data": {
      "text/plain": [
       "[1, 2, 3, 4, 5, 6, 7, 8, 9, 10]"
      ]
     },
     "execution_count": 115,
     "metadata": {},
     "output_type": "execute_result"
    }
   ],
   "source": [
    "sorted_list"
   ]
  },
  {
   "cell_type": "code",
   "execution_count": 116,
   "id": "2a6ad89c",
   "metadata": {},
   "outputs": [
    {
     "name": "stdout",
     "output_type": "stream",
     "text": [
      "Employee Email: alice@example.com\n"
     ]
    }
   ],
   "source": [
    "# Nested dictionary\n",
    "data = {\n",
    "    'employee': {\n",
    "        'details': {\n",
    "            'name': 'Alice',\n",
    "            'contact': {\n",
    "                'email': 'alice@example.com',\n",
    "                'phone': '123-456-7890'\n",
    "            }\n",
    "        }\n",
    "    }\n",
    "}\n",
    "\n",
    "# Accessing deeply nested value\n",
    "email = data['employee']['details']['contact']['email']\n",
    "print(\"Employee Email:\", email)\n"
   ]
  },
  {
   "cell_type": "markdown",
   "id": "100eb4ba",
   "metadata": {},
   "source": [
    "# TASK2"
   ]
  },
  {
   "cell_type": "markdown",
   "id": "1bc04bde",
   "metadata": {},
   "source": [
    "Task 2: Functions & Modules\n",
    "• Write your own functions:\n",
    "o Factorial calculator\n",
    "o Prime number checker\n",
    "• Use built-in modules:\n",
    "o math, random, datetime"
   ]
  },
  {
   "cell_type": "markdown",
   "id": "a3d49f87",
   "metadata": {},
   "source": [
    "1]Factorial"
   ]
  },
  {
   "cell_type": "code",
   "execution_count": 119,
   "id": "7a63dcc8",
   "metadata": {},
   "outputs": [
    {
     "name": "stdout",
     "output_type": "stream",
     "text": [
      "factorial of 5 is : 120\n"
     ]
    }
   ],
   "source": [
    "def factorial(n):\n",
    "    if n<0:\n",
    "        print(\"factorial not defined for negative numbers\")\n",
    "    result=1\n",
    "    for i in range(2,n+1):\n",
    "        result*=i\n",
    "    return result\n",
    "\n",
    "print(\"factorial of 5 is :\", factorial(5))"
   ]
  },
  {
   "cell_type": "markdown",
   "id": "1cdc371c",
   "metadata": {},
   "source": [
    "2]Prime number checker\n"
   ]
  },
  {
   "cell_type": "code",
   "execution_count": 120,
   "id": "a971fc43",
   "metadata": {},
   "outputs": [
    {
     "name": "stdout",
     "output_type": "stream",
     "text": [
      "is a prime number?  True\n"
     ]
    }
   ],
   "source": [
    "def is_prime(n):\n",
    "    if n<1:\n",
    "        False\n",
    "    for i in range(2,int(n**0.5)+1):\n",
    "        if n%2==0:\n",
    "            return False\n",
    "    return True\n",
    "print(\"is a prime number? \",is_prime(5))"
   ]
  },
  {
   "cell_type": "markdown",
   "id": "3246859a",
   "metadata": {},
   "source": [
    "math module\n"
   ]
  },
  {
   "cell_type": "code",
   "execution_count": 1,
   "id": "3874c264",
   "metadata": {},
   "outputs": [],
   "source": [
    "import math"
   ]
  },
  {
   "cell_type": "code",
   "execution_count": 2,
   "id": "4e0b44a5",
   "metadata": {},
   "outputs": [
    {
     "data": {
      "text/plain": [
       "4.0"
      ]
     },
     "execution_count": 2,
     "metadata": {},
     "output_type": "execute_result"
    }
   ],
   "source": [
    "math.sqrt(16)"
   ]
  },
  {
   "cell_type": "code",
   "execution_count": 3,
   "id": "cdb4edda",
   "metadata": {},
   "outputs": [
    {
     "data": {
      "text/plain": [
       "3.141592653589793"
      ]
     },
     "execution_count": 3,
     "metadata": {},
     "output_type": "execute_result"
    }
   ],
   "source": [
    "math.pi"
   ]
  },
  {
   "cell_type": "code",
   "execution_count": 4,
   "id": "9de8dc31",
   "metadata": {},
   "outputs": [
    {
     "data": {
      "text/plain": [
       "5"
      ]
     },
     "execution_count": 4,
     "metadata": {},
     "output_type": "execute_result"
    }
   ],
   "source": [
    "math.ceil(4.6)"
   ]
  },
  {
   "cell_type": "markdown",
   "id": "13967330",
   "metadata": {},
   "source": [
    "random module"
   ]
  },
  {
   "cell_type": "code",
   "execution_count": 6,
   "id": "76627d34",
   "metadata": {},
   "outputs": [],
   "source": [
    "import random"
   ]
  },
  {
   "cell_type": "code",
   "execution_count": 7,
   "id": "914b8e7b",
   "metadata": {},
   "outputs": [
    {
     "data": {
      "text/plain": [
       "0.027758741388395403"
      ]
     },
     "execution_count": 7,
     "metadata": {},
     "output_type": "execute_result"
    }
   ],
   "source": [
    "random.random()"
   ]
  },
  {
   "cell_type": "code",
   "execution_count": 8,
   "id": "66c0ce8b",
   "metadata": {},
   "outputs": [
    {
     "data": {
      "text/plain": [
       "36"
      ]
     },
     "execution_count": 8,
     "metadata": {},
     "output_type": "execute_result"
    }
   ],
   "source": [
    "random.randint(1,100)"
   ]
  },
  {
   "cell_type": "code",
   "execution_count": 9,
   "id": "13b634b6",
   "metadata": {},
   "outputs": [
    {
     "data": {
      "text/plain": [
       "'apple'"
      ]
     },
     "execution_count": 9,
     "metadata": {},
     "output_type": "execute_result"
    }
   ],
   "source": [
    "random.choice(['apple', 'banana', 'cherry'])"
   ]
  },
  {
   "cell_type": "markdown",
   "id": "d4f1a59f",
   "metadata": {},
   "source": [
    "datetime module"
   ]
  },
  {
   "cell_type": "code",
   "execution_count": 10,
   "id": "60faa705",
   "metadata": {},
   "outputs": [],
   "source": [
    "import datetime"
   ]
  },
  {
   "cell_type": "code",
   "execution_count": 11,
   "id": "cd69798e",
   "metadata": {},
   "outputs": [],
   "source": [
    "now = datetime.datetime.now()"
   ]
  },
  {
   "cell_type": "code",
   "execution_count": 12,
   "id": "7852e579",
   "metadata": {},
   "outputs": [
    {
     "data": {
      "text/plain": [
       "datetime.datetime(2025, 6, 20, 23, 29, 0, 51024)"
      ]
     },
     "execution_count": 12,
     "metadata": {},
     "output_type": "execute_result"
    }
   ],
   "source": [
    "now"
   ]
  },
  {
   "cell_type": "code",
   "execution_count": 13,
   "id": "edd5b4e0",
   "metadata": {
    "collapsed": true
   },
   "outputs": [
    {
     "name": "stdout",
     "output_type": "stream",
     "text": [
      "Current date and time: 2025-06-20 23:29:00.051024\n",
      "Today's date: 2025-06-20\n",
      "Current time: 23:29:00.051024\n"
     ]
    }
   ],
   "source": [
    "print(\"Current date and time:\", now)\n",
    "print(\"Today's date:\", now.date())\n",
    "print(\"Current time:\", now.time())"
   ]
  },
  {
   "cell_type": "code",
   "execution_count": 14,
   "id": "42da2504",
   "metadata": {},
   "outputs": [
    {
     "name": "stdout",
     "output_type": "stream",
     "text": [
      "Birthday: 2000-07-15\n"
     ]
    }
   ],
   "source": [
    "birthday = datetime.date(2000, 7, 15)\n",
    "print(\"Birthday:\", birthday)"
   ]
  },
  {
   "cell_type": "markdown",
   "id": "4c8601ff",
   "metadata": {},
   "source": [
    "# TASK3"
   ]
  },
  {
   "cell_type": "markdown",
   "id": "5562922f",
   "metadata": {},
   "source": [
    "ask 3: Exception Handling\n",
    "• Learn try, except, finally\n",
    "• Write code that:\n",
    "o Tries division by zero and handles the error\n",
    "o Validates user input types"
   ]
  },
  {
   "cell_type": "markdown",
   "id": "7116bce4",
   "metadata": {},
   "source": [
    "try: Run code that might cause an error\n",
    "\n",
    "except: Handle the error if it occurs\n",
    "\n",
    "finally: Code that will always run, whether there's an error or not"
   ]
  },
  {
   "cell_type": "code",
   "execution_count": 15,
   "id": "46a17731",
   "metadata": {},
   "outputs": [
    {
     "name": "stdout",
     "output_type": "stream",
     "text": [
      "Error : Cannot divide by zero\n",
      "Division attempt completed\n"
     ]
    }
   ],
   "source": [
    "#division by zero\n",
    "try:\n",
    "    a=10\n",
    "    b=0\n",
    "    result=a/b\n",
    "    print(result)\n",
    "except ZeroDivisionError:\n",
    "    print(\"Error : Cannot divide by zero\")\n",
    "finally:\n",
    "    print(\"Division attempt completed\")"
   ]
  },
  {
   "cell_type": "code",
   "execution_count": 19,
   "id": "d7213082",
   "metadata": {},
   "outputs": [
    {
     "name": "stdout",
     "output_type": "stream",
     "text": [
      "Enter an integer: 20.45\n",
      "Invalid input. Please enter a valid integer.\n",
      "Input attempt complete.\n"
     ]
    }
   ],
   "source": [
    "try:\n",
    "    num = int(input(\"Enter an integer: \"))\n",
    "    print(\"You entered:\", num)\n",
    "except ValueError:\n",
    "    print(\"Invalid input. Please enter a valid integer.\")\n",
    "finally:\n",
    "    print(\"Input attempt complete.\")\n"
   ]
  },
  {
   "cell_type": "markdown",
   "id": "a9215a1e",
   "metadata": {},
   "source": [
    "# TASK4"
   ]
  },
  {
   "cell_type": "markdown",
   "id": "e3a45cf5",
   "metadata": {},
   "source": [
    "Task 4: Practice Problems\n",
    "• Write 3–4 mini problems like:\n",
    "o FizzBuzz\n",
    "o Finding the largest number in a list\n",
    "o Reversing a string"
   ]
  },
  {
   "cell_type": "code",
   "execution_count": null,
   "id": "6e4c3eed",
   "metadata": {},
   "outputs": [],
   "source": [
    "#FIZZBUZZ\n",
    "num=int(input(\"Enter a number:\"))\n",
    "if num%3==0:\n",
    "    print(\"Fizz\")\n",
    "elif num%5==0:\n",
    "    print(\"Buzz\")\n",
    "elif (num%3==0 and num%5==0):\n",
    "    print(\"FizzBuzz\")"
   ]
  },
  {
   "cell_type": "code",
   "execution_count": 20,
   "id": "b665723e",
   "metadata": {},
   "outputs": [
    {
     "name": "stdout",
     "output_type": "stream",
     "text": [
      "9\n"
     ]
    }
   ],
   "source": [
    "#Finding largest number in a list\n",
    "def find_max(numbers):\n",
    "    if not numbers:\n",
    "        return None\n",
    "    max_num = numbers[0]\n",
    "    for num in numbers:\n",
    "        if num > max_num:\n",
    "            max_num = num\n",
    "    return max_num\n",
    "\n",
    "\n",
    "print(find_max([4, 1, 9, 3, 7]))  \n"
   ]
  },
  {
   "cell_type": "code",
   "execution_count": 23,
   "id": "a85679bd",
   "metadata": {},
   "outputs": [
    {
     "name": "stdout",
     "output_type": "stream",
     "text": [
      "enter the string:sam\n",
      "mas\n"
     ]
    }
   ],
   "source": [
    "#Reverse the string\n",
    "\n",
    "def rev_str(str):\n",
    "    return str[::-1]\n",
    "\n",
    "str=input(\"enter the string:\")\n",
    "print(rev_str(str))"
   ]
  },
  {
   "cell_type": "code",
   "execution_count": 25,
   "id": "74c2c634",
   "metadata": {},
   "outputs": [
    {
     "name": "stdout",
     "output_type": "stream",
     "text": [
      "enter the string :hello world\n",
      "3\n"
     ]
    }
   ],
   "source": [
    "#Counting vowels in string\n",
    "def count_vowels(s):\n",
    "    vowels = \"aeiouAEIOU\"\n",
    "    count = 0\n",
    "    for char in s:\n",
    "        if char in vowels:\n",
    "            count += 1\n",
    "    return count\n",
    "\n",
    "str=input(\"enter the string :\")\n",
    "print(count_vowels(str)) \n"
   ]
  }
 ],
 "metadata": {
  "kernelspec": {
   "display_name": "Python 3 (ipykernel)",
   "language": "python",
   "name": "python3"
  },
  "language_info": {
   "codemirror_mode": {
    "name": "ipython",
    "version": 3
   },
   "file_extension": ".py",
   "mimetype": "text/x-python",
   "name": "python",
   "nbconvert_exporter": "python",
   "pygments_lexer": "ipython3",
   "version": "3.10.9"
  }
 },
 "nbformat": 4,
 "nbformat_minor": 5
}
