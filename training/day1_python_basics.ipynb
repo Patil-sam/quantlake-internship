{
 "cells": [
  {
   "cell_type": "markdown",
   "id": "f6e3bd3e",
   "metadata": {},
   "source": [
    "# Data types"
   ]
  },
  {
   "cell_type": "markdown",
   "id": "c36407d5",
   "metadata": {},
   "source": [
    "# int"
   ]
  },
  {
   "cell_type": "markdown",
   "id": "d4564bde",
   "metadata": {},
   "source": [
    "int\n",
    "<br>\n",
    "Integers : are whole number values such as 84, -9 or 13"
   ]
  },
  {
   "cell_type": "code",
   "execution_count": 113,
   "id": "bbce5a2e",
   "metadata": {},
   "outputs": [],
   "source": [
    "a=10"
   ]
  },
  {
   "cell_type": "code",
   "execution_count": 114,
   "id": "0ff343a4",
   "metadata": {},
   "outputs": [
    {
     "data": {
      "text/plain": [
       "int"
      ]
     },
     "execution_count": 114,
     "metadata": {},
     "output_type": "execute_result"
    }
   ],
   "source": [
    "type(a)"
   ]
  },
  {
   "cell_type": "markdown",
   "id": "e61b8063",
   "metadata": {},
   "source": [
    "# float"
   ]
  },
  {
   "cell_type": "markdown",
   "id": "bca8b612",
   "metadata": {},
   "source": [
    "float\n",
    "<br>\n",
    "Float: are values that use decimal point and therefore may have fractional point eg: 8.42,-2.75"
   ]
  },
  {
   "cell_type": "code",
   "execution_count": 115,
   "id": "55f82b4d",
   "metadata": {},
   "outputs": [],
   "source": [
    "b=8.90"
   ]
  },
  {
   "cell_type": "code",
   "execution_count": 116,
   "id": "fedd11fa",
   "metadata": {},
   "outputs": [
    {
     "data": {
      "text/plain": [
       "float"
      ]
     },
     "execution_count": 116,
     "metadata": {},
     "output_type": "execute_result"
    }
   ],
   "source": [
    "type(b)"
   ]
  },
  {
   "cell_type": "code",
   "execution_count": 117,
   "id": "561611db",
   "metadata": {},
   "outputs": [],
   "source": [
    "c=-.56"
   ]
  },
  {
   "cell_type": "code",
   "execution_count": 118,
   "id": "fdac4721",
   "metadata": {},
   "outputs": [
    {
     "data": {
      "text/plain": [
       "float"
      ]
     },
     "execution_count": 118,
     "metadata": {},
     "output_type": "execute_result"
    }
   ],
   "source": [
    "type(c)"
   ]
  },
  {
   "cell_type": "markdown",
   "id": "32822796",
   "metadata": {},
   "source": [
    "# complex"
   ]
  },
  {
   "cell_type": "markdown",
   "id": "33451724",
   "metadata": {},
   "source": [
    " Complex number is represented by complex class. It is specified as (real part) + (imaginary part)j"
   ]
  },
  {
   "cell_type": "code",
   "execution_count": 119,
   "id": "045a437f",
   "metadata": {},
   "outputs": [],
   "source": [
    "d=2+7j"
   ]
  },
  {
   "cell_type": "code",
   "execution_count": 120,
   "id": "cdcfc707",
   "metadata": {},
   "outputs": [
    {
     "data": {
      "text/plain": [
       "complex"
      ]
     },
     "execution_count": 120,
     "metadata": {},
     "output_type": "execute_result"
    }
   ],
   "source": [
    "type(d)"
   ]
  },
  {
   "cell_type": "markdown",
   "id": "0483fb7c",
   "metadata": {},
   "source": [
    "# str"
   ]
  },
  {
   "cell_type": "markdown",
   "id": "b1489967",
   "metadata": {},
   "source": [
    "Strings in Python can be created using single quotes or double quotes or even triple quotes."
   ]
  },
  {
   "cell_type": "code",
   "execution_count": 121,
   "id": "7b337029",
   "metadata": {},
   "outputs": [],
   "source": [
    "name='sam'"
   ]
  },
  {
   "cell_type": "code",
   "execution_count": 122,
   "id": "968db38e",
   "metadata": {},
   "outputs": [],
   "source": [
    "color=\"red\""
   ]
  },
  {
   "cell_type": "code",
   "execution_count": 123,
   "id": "4e5aead2",
   "metadata": {},
   "outputs": [
    {
     "data": {
      "text/plain": [
       "str"
      ]
     },
     "execution_count": 123,
     "metadata": {},
     "output_type": "execute_result"
    }
   ],
   "source": [
    "type(name)"
   ]
  },
  {
   "cell_type": "code",
   "execution_count": 124,
   "id": "59622778",
   "metadata": {},
   "outputs": [
    {
     "data": {
      "text/plain": [
       "str"
      ]
     },
     "execution_count": 124,
     "metadata": {},
     "output_type": "execute_result"
    }
   ],
   "source": [
    "type(color)"
   ]
  },
  {
   "cell_type": "markdown",
   "id": "90fbbee6",
   "metadata": {},
   "source": [
    "# bool"
   ]
  },
  {
   "cell_type": "markdown",
   "id": "7d552b6a",
   "metadata": {},
   "source": [
    "Booleans represent one of two values: True or False."
   ]
  },
  {
   "cell_type": "code",
   "execution_count": 14,
   "id": "815ed714",
   "metadata": {},
   "outputs": [],
   "source": [
    "a=10\n",
    "b=90\n",
    "c=a<b"
   ]
  },
  {
   "cell_type": "code",
   "execution_count": 15,
   "id": "7cba7537",
   "metadata": {},
   "outputs": [
    {
     "name": "stdout",
     "output_type": "stream",
     "text": [
      "True\n"
     ]
    }
   ],
   "source": [
    "print(c)"
   ]
  },
  {
   "cell_type": "markdown",
   "id": "fa48bfe1",
   "metadata": {},
   "source": [
    "# List"
   ]
  },
  {
   "cell_type": "markdown",
   "id": "e7aa84cc",
   "metadata": {},
   "source": [
    "List: Mutable Data structure & 1D in nature"
   ]
  },
  {
   "cell_type": "code",
   "execution_count": 21,
   "id": "9013b783",
   "metadata": {},
   "outputs": [],
   "source": [
    "a=[10,20,30,40]"
   ]
  },
  {
   "cell_type": "code",
   "execution_count": 22,
   "id": "81605539",
   "metadata": {},
   "outputs": [
    {
     "data": {
      "text/plain": [
       "[10, 20, 30, 40]"
      ]
     },
     "execution_count": 22,
     "metadata": {},
     "output_type": "execute_result"
    }
   ],
   "source": [
    "a"
   ]
  },
  {
   "cell_type": "code",
   "execution_count": 23,
   "id": "d2a2527f",
   "metadata": {},
   "outputs": [
    {
     "data": {
      "text/plain": [
       "20"
      ]
     },
     "execution_count": 23,
     "metadata": {},
     "output_type": "execute_result"
    }
   ],
   "source": [
    "a[1]"
   ]
  },
  {
   "cell_type": "code",
   "execution_count": 24,
   "id": "4908f980",
   "metadata": {},
   "outputs": [
    {
     "data": {
      "text/plain": [
       "40"
      ]
     },
     "execution_count": 24,
     "metadata": {},
     "output_type": "execute_result"
    }
   ],
   "source": [
    "a[-1]"
   ]
  },
  {
   "cell_type": "code",
   "execution_count": 29,
   "id": "dd44bb21",
   "metadata": {},
   "outputs": [],
   "source": [
    "a = ['Hello', 'marry', '1',2,10,4,5,9.5]"
   ]
  },
  {
   "cell_type": "code",
   "execution_count": 30,
   "id": "a193d8b3",
   "metadata": {},
   "outputs": [
    {
     "data": {
      "text/plain": [
       "'r'"
      ]
     },
     "execution_count": 30,
     "metadata": {},
     "output_type": "execute_result"
    }
   ],
   "source": [
    "a[-7][3]"
   ]
  },
  {
   "cell_type": "code",
   "execution_count": 31,
   "id": "4db13cd0",
   "metadata": {},
   "outputs": [
    {
     "data": {
      "text/plain": [
       "['Hello', 'marry', '1', 2, 10, 4, 5, 9.5]"
      ]
     },
     "execution_count": 31,
     "metadata": {},
     "output_type": "execute_result"
    }
   ],
   "source": [
    "a[:]"
   ]
  },
  {
   "cell_type": "markdown",
   "id": "f242524f",
   "metadata": {},
   "source": [
    "# tuple"
   ]
  },
  {
   "cell_type": "markdown",
   "id": "834e5128",
   "metadata": {},
   "source": [
    "tuple: Immutable data structure & 1D in nature"
   ]
  },
  {
   "cell_type": "code",
   "execution_count": 33,
   "id": "6e81bf92",
   "metadata": {},
   "outputs": [],
   "source": [
    "d=()"
   ]
  },
  {
   "cell_type": "code",
   "execution_count": 34,
   "id": "99cde595",
   "metadata": {},
   "outputs": [
    {
     "data": {
      "text/plain": [
       "tuple"
      ]
     },
     "execution_count": 34,
     "metadata": {},
     "output_type": "execute_result"
    }
   ],
   "source": [
    "type(d)"
   ]
  },
  {
   "cell_type": "code",
   "execution_count": 35,
   "id": "eaff2d48",
   "metadata": {},
   "outputs": [],
   "source": [
    "c=(2,3,4,5,5,\"hii\")"
   ]
  },
  {
   "cell_type": "code",
   "execution_count": 36,
   "id": "812cf01a",
   "metadata": {},
   "outputs": [
    {
     "data": {
      "text/plain": [
       "(2, 3, 4, 5, 5, 'hii')"
      ]
     },
     "execution_count": 36,
     "metadata": {},
     "output_type": "execute_result"
    }
   ],
   "source": [
    "c"
   ]
  },
  {
   "cell_type": "code",
   "execution_count": 38,
   "id": "1e16155f",
   "metadata": {},
   "outputs": [
    {
     "data": {
      "text/plain": [
       "'hii'"
      ]
     },
     "execution_count": 38,
     "metadata": {},
     "output_type": "execute_result"
    }
   ],
   "source": [
    "c[5]"
   ]
  },
  {
   "cell_type": "code",
   "execution_count": 39,
   "id": "a03a9544",
   "metadata": {},
   "outputs": [
    {
     "data": {
      "text/plain": [
       "'i'"
      ]
     },
     "execution_count": 39,
     "metadata": {},
     "output_type": "execute_result"
    }
   ],
   "source": [
    "c[-1][2]"
   ]
  },
  {
   "cell_type": "markdown",
   "id": "ab5e91cd",
   "metadata": {},
   "source": [
    "# set"
   ]
  },
  {
   "cell_type": "markdown",
   "id": "7b4d289d",
   "metadata": {},
   "source": [
    "set has only unique values"
   ]
  },
  {
   "cell_type": "code",
   "execution_count": 48,
   "id": "c6d36e32",
   "metadata": {},
   "outputs": [],
   "source": [
    "set={1,1,1,1,2,3,4,4,5,65,6,4,2,2,4,4,\"hii\",343,4,4}"
   ]
  },
  {
   "cell_type": "code",
   "execution_count": 49,
   "id": "4e5435f7",
   "metadata": {},
   "outputs": [
    {
     "data": {
      "text/plain": [
       "set"
      ]
     },
     "execution_count": 49,
     "metadata": {},
     "output_type": "execute_result"
    }
   ],
   "source": [
    "type(set)"
   ]
  },
  {
   "cell_type": "code",
   "execution_count": 50,
   "id": "9f395678",
   "metadata": {},
   "outputs": [
    {
     "data": {
      "text/plain": [
       "{1, 2, 3, 343, 4, 5, 6, 65, 'hii'}"
      ]
     },
     "execution_count": 50,
     "metadata": {},
     "output_type": "execute_result"
    }
   ],
   "source": [
    "set"
   ]
  },
  {
   "cell_type": "code",
   "execution_count": 52,
   "id": "827d1baa",
   "metadata": {},
   "outputs": [],
   "source": [
    "set.add(90)"
   ]
  },
  {
   "cell_type": "code",
   "execution_count": 53,
   "id": "e13bbde5",
   "metadata": {},
   "outputs": [
    {
     "data": {
      "text/plain": [
       "{1, 2, 3, 343, 4, 5, 6, 65, 90, 'hii'}"
      ]
     },
     "execution_count": 53,
     "metadata": {},
     "output_type": "execute_result"
    }
   ],
   "source": [
    "set"
   ]
  },
  {
   "cell_type": "code",
   "execution_count": 56,
   "id": "cfaa4d59",
   "metadata": {},
   "outputs": [],
   "source": [
    "set.remove(1)"
   ]
  },
  {
   "cell_type": "code",
   "execution_count": 57,
   "id": "696d3861",
   "metadata": {},
   "outputs": [
    {
     "data": {
      "text/plain": [
       "{2, 3, 343, 4, 5, 6, 65, 90, 'hii'}"
      ]
     },
     "execution_count": 57,
     "metadata": {},
     "output_type": "execute_result"
    }
   ],
   "source": [
    "set"
   ]
  },
  {
   "cell_type": "markdown",
   "id": "1bb79af1",
   "metadata": {},
   "source": [
    "# dictionary"
   ]
  },
  {
   "cell_type": "markdown",
   "id": "433b87cb",
   "metadata": {},
   "source": [
    "Dict: 2D Data structure, but we store data in Key & value pair "
   ]
  },
  {
   "cell_type": "code",
   "execution_count": 58,
   "id": "ff979507",
   "metadata": {},
   "outputs": [],
   "source": [
    "a={\"apple\":10,\"banana\":90,\"orange\":56}"
   ]
  },
  {
   "cell_type": "code",
   "execution_count": 59,
   "id": "22f7631f",
   "metadata": {},
   "outputs": [
    {
     "data": {
      "text/plain": [
       "{'apple': 10, 'banana': 90, 'orange': 56}"
      ]
     },
     "execution_count": 59,
     "metadata": {},
     "output_type": "execute_result"
    }
   ],
   "source": [
    "a"
   ]
  },
  {
   "cell_type": "code",
   "execution_count": 60,
   "id": "51c37c5e",
   "metadata": {},
   "outputs": [
    {
     "data": {
      "text/plain": [
       "dict"
      ]
     },
     "execution_count": 60,
     "metadata": {},
     "output_type": "execute_result"
    }
   ],
   "source": [
    "type(a)"
   ]
  },
  {
   "cell_type": "markdown",
   "id": "5dfbf177",
   "metadata": {},
   "source": [
    "# array"
   ]
  },
  {
   "cell_type": "markdown",
   "id": "3955483f",
   "metadata": {},
   "source": [
    "In Python, an array is a data structure that can store a collection of items—usually of the same data type—in a single variable. Arrays allow efficient storage and access of multiple values.\n",
    "\n"
   ]
  },
  {
   "cell_type": "code",
   "execution_count": 63,
   "id": "2af1045a",
   "metadata": {},
   "outputs": [
    {
     "name": "stdout",
     "output_type": "stream",
     "text": [
      "10\n",
      "[10, 25, 30, 40]\n",
      "[10, 25, 30, 40, 50]\n"
     ]
    }
   ],
   "source": [
    "# List as an array\n",
    "arr = [10, 20, 30, 40]\n",
    "\n",
    "# Accessing elements\n",
    "print(arr[0]) \n",
    "\n",
    "# Modifying elements\n",
    "arr[1] = 25\n",
    "print(arr)    \n",
    "\n",
    "# Adding elements\n",
    "arr.append(50)\n",
    "print(arr)    \n"
   ]
  },
  {
   "cell_type": "markdown",
   "id": "039d54db",
   "metadata": {},
   "source": [
    "# Arithmetic Operators"
   ]
  },
  {
   "cell_type": "markdown",
   "id": "b4164880",
   "metadata": {},
   "source": [
    "Arithmetic operators: Arithmetic operators are used to perform mathematical operations like addition, subtraction, multiplication and division."
   ]
  },
  {
   "cell_type": "code",
   "execution_count": 64,
   "id": "85a4bfc6",
   "metadata": {},
   "outputs": [],
   "source": [
    "a=10\n",
    "b=5"
   ]
  },
  {
   "cell_type": "code",
   "execution_count": 65,
   "id": "05848517",
   "metadata": {},
   "outputs": [],
   "source": [
    "add=a+b"
   ]
  },
  {
   "cell_type": "code",
   "execution_count": 66,
   "id": "3af37405",
   "metadata": {},
   "outputs": [
    {
     "data": {
      "text/plain": [
       "15"
      ]
     },
     "execution_count": 66,
     "metadata": {},
     "output_type": "execute_result"
    }
   ],
   "source": [
    "add"
   ]
  },
  {
   "cell_type": "code",
   "execution_count": 67,
   "id": "a202c1a1",
   "metadata": {},
   "outputs": [],
   "source": [
    "substract=a-b"
   ]
  },
  {
   "cell_type": "code",
   "execution_count": 68,
   "id": "9f0e7b02",
   "metadata": {},
   "outputs": [
    {
     "data": {
      "text/plain": [
       "5"
      ]
     },
     "execution_count": 68,
     "metadata": {},
     "output_type": "execute_result"
    }
   ],
   "source": [
    "substract"
   ]
  },
  {
   "cell_type": "code",
   "execution_count": 69,
   "id": "d055eff2",
   "metadata": {},
   "outputs": [],
   "source": [
    "multiply=a*b"
   ]
  },
  {
   "cell_type": "code",
   "execution_count": 70,
   "id": "9b2540af",
   "metadata": {},
   "outputs": [
    {
     "data": {
      "text/plain": [
       "50"
      ]
     },
     "execution_count": 70,
     "metadata": {},
     "output_type": "execute_result"
    }
   ],
   "source": [
    "multiply"
   ]
  },
  {
   "cell_type": "code",
   "execution_count": 71,
   "id": "f16f0988",
   "metadata": {},
   "outputs": [],
   "source": [
    "division=a/b"
   ]
  },
  {
   "cell_type": "code",
   "execution_count": 72,
   "id": "815ee0ce",
   "metadata": {},
   "outputs": [
    {
     "data": {
      "text/plain": [
       "2.0"
      ]
     },
     "execution_count": 72,
     "metadata": {},
     "output_type": "execute_result"
    }
   ],
   "source": [
    "division"
   ]
  },
  {
   "cell_type": "code",
   "execution_count": 73,
   "id": "a5fb1a78",
   "metadata": {},
   "outputs": [],
   "source": [
    "flrdiv=a//b"
   ]
  },
  {
   "cell_type": "code",
   "execution_count": 74,
   "id": "f6be6b26",
   "metadata": {},
   "outputs": [
    {
     "data": {
      "text/plain": [
       "2"
      ]
     },
     "execution_count": 74,
     "metadata": {},
     "output_type": "execute_result"
    }
   ],
   "source": [
    "flrdiv"
   ]
  },
  {
   "cell_type": "code",
   "execution_count": 75,
   "id": "82bf0b34",
   "metadata": {},
   "outputs": [],
   "source": [
    "mod=a%b"
   ]
  },
  {
   "cell_type": "code",
   "execution_count": 76,
   "id": "6b524c43",
   "metadata": {},
   "outputs": [
    {
     "data": {
      "text/plain": [
       "0"
      ]
     },
     "execution_count": 76,
     "metadata": {},
     "output_type": "execute_result"
    }
   ],
   "source": [
    "mod"
   ]
  },
  {
   "cell_type": "code",
   "execution_count": 77,
   "id": "a55406ea",
   "metadata": {},
   "outputs": [],
   "source": [
    "exponential=a**b"
   ]
  },
  {
   "cell_type": "code",
   "execution_count": 78,
   "id": "75ba1baa",
   "metadata": {},
   "outputs": [
    {
     "data": {
      "text/plain": [
       "100000"
      ]
     },
     "execution_count": 78,
     "metadata": {},
     "output_type": "execute_result"
    }
   ],
   "source": [
    "exponential"
   ]
  },
  {
   "cell_type": "markdown",
   "id": "e1b267ce",
   "metadata": {},
   "source": [
    "# Comparision Operators"
   ]
  },
  {
   "cell_type": "markdown",
   "id": "ea977c75",
   "metadata": {},
   "source": [
    "Comparison Operators: comparison operators compares the values. It either returns True or False according to the condition."
   ]
  },
  {
   "cell_type": "code",
   "execution_count": 89,
   "id": "adb643ac",
   "metadata": {},
   "outputs": [],
   "source": [
    "a=10\n",
    "b=5"
   ]
  },
  {
   "cell_type": "code",
   "execution_count": 90,
   "id": "1a6c2ef8",
   "metadata": {},
   "outputs": [
    {
     "data": {
      "text/plain": [
       "True"
      ]
     },
     "execution_count": 90,
     "metadata": {},
     "output_type": "execute_result"
    }
   ],
   "source": [
    "a>b"
   ]
  },
  {
   "cell_type": "code",
   "execution_count": 91,
   "id": "49989fab",
   "metadata": {},
   "outputs": [
    {
     "data": {
      "text/plain": [
       "False"
      ]
     },
     "execution_count": 91,
     "metadata": {},
     "output_type": "execute_result"
    }
   ],
   "source": [
    "a<b"
   ]
  },
  {
   "cell_type": "code",
   "execution_count": 92,
   "id": "a4aa69b7",
   "metadata": {},
   "outputs": [
    {
     "data": {
      "text/plain": [
       "False"
      ]
     },
     "execution_count": 92,
     "metadata": {},
     "output_type": "execute_result"
    }
   ],
   "source": [
    "a==b"
   ]
  },
  {
   "cell_type": "code",
   "execution_count": 93,
   "id": "586590d4",
   "metadata": {},
   "outputs": [
    {
     "data": {
      "text/plain": [
       "True"
      ]
     },
     "execution_count": 93,
     "metadata": {},
     "output_type": "execute_result"
    }
   ],
   "source": [
    "a!=b"
   ]
  },
  {
   "cell_type": "code",
   "execution_count": 94,
   "id": "2f041fab",
   "metadata": {},
   "outputs": [
    {
     "data": {
      "text/plain": [
       "True"
      ]
     },
     "execution_count": 94,
     "metadata": {},
     "output_type": "execute_result"
    }
   ],
   "source": [
    "a>=b"
   ]
  },
  {
   "cell_type": "code",
   "execution_count": 95,
   "id": "991f5f94",
   "metadata": {},
   "outputs": [
    {
     "data": {
      "text/plain": [
       "False"
      ]
     },
     "execution_count": 95,
     "metadata": {},
     "output_type": "execute_result"
    }
   ],
   "source": [
    "a<=b"
   ]
  },
  {
   "cell_type": "markdown",
   "id": "b9ef70e0",
   "metadata": {},
   "source": [
    "# If Statement"
   ]
  },
  {
   "cell_type": "markdown",
   "id": "25f3332d",
   "metadata": {},
   "source": [
    "Used to check a single condition."
   ]
  },
  {
   "cell_type": "code",
   "execution_count": 98,
   "id": "93a9910a",
   "metadata": {},
   "outputs": [
    {
     "name": "stdout",
     "output_type": "stream",
     "text": [
      "a is smaller than b\n"
     ]
    }
   ],
   "source": [
    "a=10\n",
    "b=20\n",
    "if a<b:\n",
    "    print(\"a is smaller than b\")"
   ]
  },
  {
   "cell_type": "markdown",
   "id": "8a688054",
   "metadata": {},
   "source": [
    "# elif"
   ]
  },
  {
   "cell_type": "markdown",
   "id": "6256f13c",
   "metadata": {},
   "source": [
    "elif stands for \"else if\". It is used when you want to check multiple conditions, one after the other."
   ]
  },
  {
   "cell_type": "code",
   "execution_count": 101,
   "id": "35d66b01",
   "metadata": {},
   "outputs": [
    {
     "name": "stdout",
     "output_type": "stream",
     "text": [
      "c is largest number\n"
     ]
    }
   ],
   "source": [
    "a=10\n",
    "b=20\n",
    "c=30\n",
    "if a<b and b<c:\n",
    "    print(\"c is largest number\")\n",
    "elif a<b and b>c:\n",
    "    print(\"b is largest number\")\n",
    "elif a>b and a>c:\n",
    "    print(\"a is largest number\")"
   ]
  },
  {
   "cell_type": "markdown",
   "id": "b76cbeb4",
   "metadata": {},
   "source": [
    "# else"
   ]
  },
  {
   "cell_type": "markdown",
   "id": "961fdbd6",
   "metadata": {},
   "source": [
    "Executes one block if the condition is True, otherwise another block."
   ]
  },
  {
   "cell_type": "code",
   "execution_count": 102,
   "id": "2a64961f",
   "metadata": {},
   "outputs": [
    {
     "name": "stdout",
     "output_type": "stream",
     "text": [
      "b is smaller than a\n"
     ]
    }
   ],
   "source": [
    "a=100\n",
    "b=20\n",
    "if a<b:\n",
    "    print(\"a is smaller than b\")\n",
    "else:\n",
    "    print(\"b is smaller than a\")"
   ]
  },
  {
   "cell_type": "markdown",
   "id": "74571d08",
   "metadata": {},
   "source": [
    "# if elif else"
   ]
  },
  {
   "cell_type": "markdown",
   "id": "5dae4ec3",
   "metadata": {},
   "source": [
    "Used when you have multiple conditions, only one block executes."
   ]
  },
  {
   "cell_type": "code",
   "execution_count": 103,
   "id": "20d501fd",
   "metadata": {},
   "outputs": [
    {
     "name": "stdout",
     "output_type": "stream",
     "text": [
      "enter num: 20\n",
      "Positive number\n"
     ]
    }
   ],
   "source": [
    "num = int(input(\"enter num: \"))\n",
    "if num > 0:\n",
    "    print(\"Positive number\")\n",
    "elif num == 0:\n",
    "    print(\"Zero\")\n",
    "else:\n",
    "    print(\"Negative number\")"
   ]
  },
  {
   "cell_type": "markdown",
   "id": "fff76540",
   "metadata": {},
   "source": [
    "# While Loop"
   ]
  },
  {
   "cell_type": "markdown",
   "id": "e618e11c",
   "metadata": {},
   "source": [
    "repeatedly executes a target statement as long as a given condition\n",
    "is true."
   ]
  },
  {
   "cell_type": "code",
   "execution_count": 105,
   "id": "b203d012",
   "metadata": {},
   "outputs": [
    {
     "name": "stdout",
     "output_type": "stream",
     "text": [
      "0\n",
      "1\n",
      "2\n",
      "3\n",
      "4\n",
      "5\n",
      "6\n",
      "7\n",
      "8\n",
      "9\n"
     ]
    }
   ],
   "source": [
    "x=0\n",
    "while x<10:\n",
    "    print(x)\n",
    "    x+=1"
   ]
  },
  {
   "cell_type": "markdown",
   "id": "2553c1b1",
   "metadata": {},
   "source": [
    "# For Loop"
   ]
  },
  {
   "cell_type": "markdown",
   "id": "cf2cabc2",
   "metadata": {},
   "source": [
    "A for loop is used to iterate over a sequence (like a list, tuple, string, or range)."
   ]
  },
  {
   "cell_type": "code",
   "execution_count": 108,
   "id": "3870ba5e",
   "metadata": {},
   "outputs": [
    {
     "name": "stdout",
     "output_type": "stream",
     "text": [
      "1\n",
      "2\n",
      "3\n",
      "4\n",
      "5\n"
     ]
    }
   ],
   "source": [
    "a=[1,2,3,4,5]\n",
    "for i in a:\n",
    "    print(i)"
   ]
  },
  {
   "cell_type": "code",
   "execution_count": 111,
   "id": "fd00e3e2",
   "metadata": {},
   "outputs": [
    {
     "name": "stdout",
     "output_type": "stream",
     "text": [
      "1\n",
      "2\n",
      "3\n",
      "4\n"
     ]
    }
   ],
   "source": [
    "for i in range(1,10):\n",
    "    if i == 5:\n",
    "        break\n",
    "    print(i)"
   ]
  },
  {
   "cell_type": "code",
   "execution_count": 112,
   "id": "3485cfa6",
   "metadata": {},
   "outputs": [
    {
     "name": "stdout",
     "output_type": "stream",
     "text": [
      "1\n",
      "2\n",
      "3\n",
      "4\n",
      "6\n",
      "7\n",
      "8\n",
      "9\n"
     ]
    }
   ],
   "source": [
    "for i in range(1,10):\n",
    "    if i == 5:\n",
    "        continue\n",
    "    print(i)"
   ]
  },
  {
   "cell_type": "code",
   "execution_count": 110,
   "id": "cbb26017",
   "metadata": {},
   "outputs": [
    {
     "name": "stdout",
     "output_type": "stream",
     "text": [
      "[1, 2, 3, 4, 5, 6, 7, 8, 9, 10, 11, 12, 13, 14, 15, 16, 17, 18, 19, 20, 21, 22, 23, 24, 25, 26, 27, 28, 29, 30, 31, 32, 33, 34, 35, 36, 37, 38, 39, 40, 41, 42, 43, 44, 45, 46, 47, 48, 49, 50, 51, 52, 53, 54, 55, 56, 57, 58, 59, 60, 61, 62, 63, 64, 65, 66, 67, 68, 69, 70, 71, 72, 73, 74, 75, 76, 77, 78, 79, 80, 81, 82, 83, 84, 85, 86, 87, 88, 89, 90, 91, 92, 93, 94, 95, 96, 97, 98, 99]\n"
     ]
    }
   ],
   "source": [
    "list=[]\n",
    "for i in range(1,100):\n",
    "    list.append(i)\n",
    "print(list)"
   ]
  }
 ],
 "metadata": {
  "kernelspec": {
   "display_name": "Python 3 (ipykernel)",
   "language": "python",
   "name": "python3"
  },
  "language_info": {
   "codemirror_mode": {
    "name": "ipython",
    "version": 3
   },
   "file_extension": ".py",
   "mimetype": "text/x-python",
   "name": "python",
   "nbconvert_exporter": "python",
   "pygments_lexer": "ipython3",
   "version": "3.10.9"
  }
 },
 "nbformat": 4,
 "nbformat_minor": 5
}
